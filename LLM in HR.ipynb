{
 "cells": [
  {
   "metadata": {},
   "cell_type": "markdown",
   "source": [
    "## Load Resume Dataset from Kaggle\n",
    "https://www.kaggle.com/datasets/snehaanbhawal/resume-dataset/data"
   ],
   "id": "d37fac742a869463"
  },
  {
   "metadata": {
    "ExecuteTime": {
     "end_time": "2025-10-14T15:35:20.984713Z",
     "start_time": "2025-10-14T15:35:18.191154Z"
    }
   },
   "cell_type": "code",
   "source": [
    "# load data\n",
    "import pandas as pd\n",
    "df = pd.read_csv(\"Resume.csv\")\n",
    "print(df.head())"
   ],
   "id": "15c20fe2757bd589",
   "outputs": [
    {
     "name": "stdout",
     "output_type": "stream",
     "text": [
      "         ID                                         Resume_str  \\\n",
      "0  16852973           HR ADMINISTRATOR/MARKETING ASSOCIATE\\...   \n",
      "1  22323967           HR SPECIALIST, US HR OPERATIONS      ...   \n",
      "2  33176873           HR DIRECTOR       Summary      Over 2...   \n",
      "3  27018550           HR SPECIALIST       Summary    Dedica...   \n",
      "4  17812897           HR MANAGER         Skill Highlights  ...   \n",
      "\n",
      "                                         Resume_html Category  \n",
      "0  <div class=\"fontsize fontface vmargins hmargin...       HR  \n",
      "1  <div class=\"fontsize fontface vmargins hmargin...       HR  \n",
      "2  <div class=\"fontsize fontface vmargins hmargin...       HR  \n",
      "3  <div class=\"fontsize fontface vmargins hmargin...       HR  \n",
      "4  <div class=\"fontsize fontface vmargins hmargin...       HR  \n"
     ]
    }
   ],
   "execution_count": 1
  },
  {
   "metadata": {},
   "cell_type": "markdown",
   "source": "## Preprocessing ",
   "id": "3c0632c00780bcc1"
  },
  {
   "metadata": {
    "ExecuteTime": {
     "end_time": "2025-10-14T15:35:23.473643Z",
     "start_time": "2025-10-14T15:35:23.459004Z"
    }
   },
   "cell_type": "code",
   "source": "df.shape",
   "id": "c16183bf80894e65",
   "outputs": [
    {
     "data": {
      "text/plain": [
       "(2484, 4)"
      ]
     },
     "execution_count": 2,
     "metadata": {},
     "output_type": "execute_result"
    }
   ],
   "execution_count": 2
  },
  {
   "metadata": {
    "ExecuteTime": {
     "end_time": "2025-10-14T15:35:24.677020Z",
     "start_time": "2025-10-14T15:35:24.633638Z"
    }
   },
   "cell_type": "code",
   "source": "df.info()",
   "id": "3751710541f19261",
   "outputs": [
    {
     "name": "stdout",
     "output_type": "stream",
     "text": [
      "<class 'pandas.core.frame.DataFrame'>\n",
      "RangeIndex: 2484 entries, 0 to 2483\n",
      "Data columns (total 4 columns):\n",
      " #   Column       Non-Null Count  Dtype \n",
      "---  ------       --------------  ----- \n",
      " 0   ID           2484 non-null   int64 \n",
      " 1   Resume_str   2484 non-null   object\n",
      " 2   Resume_html  2484 non-null   object\n",
      " 3   Category     2484 non-null   object\n",
      "dtypes: int64(1), object(3)\n",
      "memory usage: 77.8+ KB\n"
     ]
    }
   ],
   "execution_count": 3
  },
  {
   "metadata": {
    "ExecuteTime": {
     "end_time": "2025-10-14T15:35:26.310283Z",
     "start_time": "2025-10-14T15:35:26.292317Z"
    }
   },
   "cell_type": "code",
   "source": "df['Category'].unique()",
   "id": "31a0c2666fbbdde1",
   "outputs": [
    {
     "data": {
      "text/plain": [
       "array(['HR', 'DESIGNER', 'INFORMATION-TECHNOLOGY', 'TEACHER', 'ADVOCATE',\n",
       "       'BUSINESS-DEVELOPMENT', 'HEALTHCARE', 'FITNESS', 'AGRICULTURE',\n",
       "       'BPO', 'SALES', 'CONSULTANT', 'DIGITAL-MEDIA', 'AUTOMOBILE',\n",
       "       'CHEF', 'FINANCE', 'APPAREL', 'ENGINEERING', 'ACCOUNTANT',\n",
       "       'CONSTRUCTION', 'PUBLIC-RELATIONS', 'BANKING', 'ARTS', 'AVIATION'],\n",
       "      dtype=object)"
      ]
     },
     "execution_count": 4,
     "metadata": {},
     "output_type": "execute_result"
    }
   ],
   "execution_count": 4
  },
  {
   "metadata": {
    "ExecuteTime": {
     "end_time": "2025-10-14T15:35:28.663203Z",
     "start_time": "2025-10-14T15:35:28.645508Z"
    }
   },
   "cell_type": "code",
   "source": "df['Category'].value_counts()",
   "id": "a65ddfdd246857d2",
   "outputs": [
    {
     "data": {
      "text/plain": [
       "Category\n",
       "INFORMATION-TECHNOLOGY    120\n",
       "BUSINESS-DEVELOPMENT      120\n",
       "ADVOCATE                  118\n",
       "CHEF                      118\n",
       "ENGINEERING               118\n",
       "ACCOUNTANT                118\n",
       "FINANCE                   118\n",
       "FITNESS                   117\n",
       "AVIATION                  117\n",
       "SALES                     116\n",
       "BANKING                   115\n",
       "HEALTHCARE                115\n",
       "CONSULTANT                115\n",
       "CONSTRUCTION              112\n",
       "PUBLIC-RELATIONS          111\n",
       "HR                        110\n",
       "DESIGNER                  107\n",
       "ARTS                      103\n",
       "TEACHER                   102\n",
       "APPAREL                    97\n",
       "DIGITAL-MEDIA              96\n",
       "AGRICULTURE                63\n",
       "AUTOMOBILE                 36\n",
       "BPO                        22\n",
       "Name: count, dtype: int64"
      ]
     },
     "execution_count": 5,
     "metadata": {},
     "output_type": "execute_result"
    }
   ],
   "execution_count": 5
  },
  {
   "metadata": {
    "ExecuteTime": {
     "end_time": "2025-10-14T15:35:30.991184Z",
     "start_time": "2025-10-14T15:35:30.971542Z"
    }
   },
   "cell_type": "code",
   "source": [
    "# drop column 'Resume_html'\n",
    "df = df.drop(columns=[\"Resume_html\"])"
   ],
   "id": "8e4a5732c50d479c",
   "outputs": [],
   "execution_count": 6
  },
  {
   "metadata": {
    "ExecuteTime": {
     "end_time": "2025-10-14T15:35:32.236334Z",
     "start_time": "2025-10-14T15:35:32.222093Z"
    }
   },
   "cell_type": "code",
   "source": [
    "# show full column width\n",
    "pd.set_option('display.max_colwidth', None)\n",
    "# show first row\n",
    "df[\"Resume_str\"].iloc[0]"
   ],
   "id": "a0ac694edcb86251",
   "outputs": [
    {
     "data": {
      "text/plain": [
       "\"         HR ADMINISTRATOR/MARKETING ASSOCIATE\\n\\nHR ADMINISTRATOR       Summary     Dedicated Customer Service Manager with 15+ years of experience in Hospitality and Customer Service Management.   Respected builder and leader of customer-focused teams; strives to instill a shared, enthusiastic commitment to customer service.         Highlights         Focused on customer satisfaction  Team management  Marketing savvy  Conflict resolution techniques     Training and development  Skilled multi-tasker  Client relations specialist           Accomplishments      Missouri DOT Supervisor Training Certification  Certified by IHG in Customer Loyalty and Marketing by Segment   Hilton Worldwide General Manager Training Certification  Accomplished Trainer for cross server hospitality systems such as    Hilton OnQ  ,   Micros    Opera PMS   , Fidelio    OPERA    Reservation System (ORS) ,   Holidex    Completed courses and seminars in customer service, sales strategies, inventory control, loss prevention, safety, time management, leadership and performance assessment.        Experience      HR Administrator/Marketing Associate\\n\\nHR Administrator     Dec 2013   to   Current      Company Name   －   City  ,   State     Helps to develop policies, directs and coordinates activities such as employment, compensation, labor relations, benefits, training, and employee services.  Prepares employee separation notices and related documentation  Keeps records of benefits plans participation such as insurance and pension plan, personnel transactions such as hires, promotions, transfers, performance reviews, and terminations, and employee statistics for government reporting.  Advises management in appropriate resolution of employee relations issues.  Administers benefits programs such as life, health, dental, insurance, pension plans, vacation, sick leave, leave of absence, and employee assistance.     Marketing Associate \\xa0   Designed and created marketing collateral for sales meetings, trade shows and company executives.  Managed the in-house advertising program consisting of print and media collateral pieces.  Assisted in the complete design and launch of the company's website in 2 months.  Created an official company page on Facebook to facilitate interaction with customers.  Analyzed ratings and programming features of competitors to evaluate the effectiveness of marketing strategies.         Advanced Medical Claims Analyst     Mar 2012   to   Dec 2013      Company Name   －   City  ,   State     Reviewed medical bills for the accuracy of the treatments, tests, and hospital stays prior to sanctioning the claims.  Trained to interpret the codes (ICD-9, CPT) and terminology commonly used in medical billing to fully understand the paperwork that is submitted by healthcare providers.  Required to have organizational and analytical skills as well as computer skills, knowledge of medical terminology and procedures, statistics, billing standards, data analysis and laws regarding medical billing.         Assistant General Manager     Jun 2010   to   Dec 2010      Company Name   －   City  ,   State     Performed duties including but not limited to, budgeting and financial management, accounting, human resources, payroll and purchasing.  Established and maintained close working relationships with all departments of the hotel to ensure maximum operation, productivity, morale and guest service.  Handled daily operations and reported directly to the corporate office.  Hired and trained staff on overall objectives and goals with an emphasis on high customer service.  Marketing and Advertising, working on public relations with the media, government and local businesses and Chamber of Commerce.         Executive Support / Marketing Assistant     Jul 2007   to   Jun 2010      Company Name   －   City  ,   State     Provided assistance to various department heads - Executive, Marketing, Customer Service, Human Resources.  Managed front-end operations to ensure friendly and efficient transactions.  Ensured the swift resolution of customer issues to preserve customer loyalty while complying with company policies.  Exemplified the second-to-none customer service delivery in all interactions with customers and potential clients.         Reservation & Front Office Manager     Jun 2004   to   Jul 2007      Company Name   －   City  ,   State          Owner/ Partner     Dec 2001   to   May 2004      Company Name   －   City  ,   State          Price Integrity Coordinator     Aug 1999   to   Dec 2001      Company Name   －   City  ,   State          Education      N/A  ,   Business Administration   1999     Jefferson College   －   City  ,   State       Business Administration  Marketing / Advertising         High School Diploma  ,   College Prep. studies   1998     Sainte Genevieve Senior High   －   City  ,   State       Awarded American Shrubel Leadership Scholarship to Jefferson College         Skills     Accounting, ads, advertising, analytical skills, benefits, billing, budgeting, clients, Customer Service, data analysis, delivery, documentation, employee relations, financial management, government relations, Human Resources, insurance, labor relations, layout, Marketing, marketing collateral, medical billing, medical terminology, office, organizational, payroll, performance reviews, personnel, policies, posters, presentations, public relations, purchasing, reporting, statistics, website.    \""
      ]
     },
     "execution_count": 7,
     "metadata": {},
     "output_type": "execute_result"
    }
   ],
   "execution_count": 7
  },
  {
   "metadata": {
    "ExecuteTime": {
     "end_time": "2025-10-14T15:35:34.029803Z",
     "start_time": "2025-10-14T15:35:33.997406Z"
    }
   },
   "cell_type": "code",
   "source": [
    "import re\n",
    "\n",
    "# Create a boolean column that marks resumes containing HTML tags\n",
    "df[\"has_html\"] = df[\"Resume_str\"].apply(lambda x: bool(re.search(r\"<.*?>\", str(x))))\n",
    "\n",
    "# Count how many resumes have HTML tags\n",
    "print(\"Resumes with HTML tags:\", df[\"has_html\"].sum())\n",
    "print(\"Resumes without HTML tags:\", len(df) - df[\"has_html\"].sum())\n",
    "\n"
   ],
   "id": "f555cf6c9c48613f",
   "outputs": [
    {
     "name": "stdout",
     "output_type": "stream",
     "text": [
      "Resumes with HTML tags: 10\n",
      "Resumes without HTML tags: 2474\n"
     ]
    }
   ],
   "execution_count": 8
  },
  {
   "metadata": {
    "ExecuteTime": {
     "end_time": "2025-10-14T15:35:35.954554Z",
     "start_time": "2025-10-14T15:35:35.940786Z"
    }
   },
   "cell_type": "code",
   "source": "df.info()",
   "id": "87f1a8c4f90ea9da",
   "outputs": [
    {
     "name": "stdout",
     "output_type": "stream",
     "text": [
      "<class 'pandas.core.frame.DataFrame'>\n",
      "RangeIndex: 2484 entries, 0 to 2483\n",
      "Data columns (total 4 columns):\n",
      " #   Column      Non-Null Count  Dtype \n",
      "---  ------      --------------  ----- \n",
      " 0   ID          2484 non-null   int64 \n",
      " 1   Resume_str  2484 non-null   object\n",
      " 2   Category    2484 non-null   object\n",
      " 3   has_html    2484 non-null   bool  \n",
      "dtypes: bool(1), int64(1), object(2)\n",
      "memory usage: 60.8+ KB\n"
     ]
    }
   ],
   "execution_count": 9
  },
  {
   "metadata": {
    "ExecuteTime": {
     "end_time": "2025-10-14T15:35:46.610882Z",
     "start_time": "2025-10-14T15:35:37.894038Z"
    }
   },
   "cell_type": "code",
   "source": [
    "# Drop the 'has_html' column\n",
    "df = df.drop(columns=['has_html'])\n",
    "\n",
    "# readability\n",
    "import re\n",
    "\n",
    "def clean_text(text):\n",
    "    text = str(text)\n",
    "    text = re.sub(r'<.*?>', ' ', text)               # remove HTML tags\n",
    "    text = re.sub(r'\\r', '', text)                   # remove returns\n",
    "    text = re.sub(r'\\n{3,}', '\\n\\n', text)           # limit multiple newlines to 2\n",
    "    text = re.sub(r' {2,}', ' ', text)               # collapse extra spaces\n",
    "    text = re.sub(r'(?<=\\w)\\n(?=\\w)', ' ', text)     # avoid linebreaks mid-sentence\n",
    "    \n",
    "    # Add spacing before common section headers\n",
    "    headers = [\n",
    "        \"summary\", \"highlights\", \"experience\", \"education\",\n",
    "        \"projects\", \"skills\", \"certifications\", \"awards\", \"languages\"\n",
    "    ]\n",
    "    for h in headers:\n",
    "        pattern = rf\"(?i)(?<=\\b){h}\\b\"\n",
    "        text = re.sub(pattern, f\"\\n\\n{h.upper()}\", text)\n",
    "    \n",
    "    text = text.strip()\n",
    "    return text\n",
    "\n",
    "# Apply the cleaning function to resumes\n",
    "df[\"Resume_clean\"] = df[\"Resume_str\"].apply(clean_text)\n",
    "\n",
    "# Quick check\n",
    "df[[\"ID\", \"Category\", \"Resume_clean\"]].head(3)\n"
   ],
   "id": "a632cccf8814dd22",
   "outputs": [
    {
     "data": {
      "text/plain": [
       "         ID Category  \\\n",
       "0  16852973       HR   \n",
       "1  22323967       HR   \n",
       "2  33176873       HR   \n",
       "\n",
       "                                                                                                                                                                                                                                                                                                                                                                                                                                                                                                                                                                                                                                                                                                                                                                                                                                                                                                                                                                                                                                                                                                                                                                                                                                                                                                                                                                                                                                                                                                                                                                                                                                                                                                                                                                                                                                                                                                                                                                                                                                                                                                                                                                                                                                                                                                                                                                                                                                                                                                                                                                                                                                                                                                                                                                                                                                                                                                                                                                                                                                                                                                                                                                                                                                                                                                                                                                                                                                                                                                                                                                                                                                                                                                                                                                                                                                                                                                                                                                                                                                                                                                                                                                                                                                                                                                                                                                                                                                                                                                                                                                                                                                                                                                                                                                                                                                                                                                                                                                                                                                                                                                                                                                                                                                                                                                                                                                                                                                                                                                                                                                                                                                                                                                                                                                                                                                                                                                                                                                                                                                                                                                                                                                                                                                                                                                                                                                                                                                                                                                                                                                                                                                                                                                                                                                                                                                                                                                                                                                                                                                                                                                                                                                                                                                                                                                                                                                                                                                                                                                                                                                                                                                                                                                           Resume_clean  \n",
       "0                                                                                                                                                                                                                                                                                                                                                                                                                                                                                                                                                                                                                                                                                                                                                                                                                                                                                                                                                                                                                                                                                                                                                                                                                                                                                                                                                                                                                                                                                                                                                                                                                                                                                                                                                                                                                                                                                                                                                                                                                                                                                                                                                                                                                                                                                                                                                                                                                                       HR ADMINISTRATOR/MARKETING ASSOCIATE\\n\\nHR ADMINISTRATOR \\n\\nSUMMARY Dedicated Customer Service Manager with 15+ years of \\n\\nEXPERIENCE in Hospitality and Customer Service Management. Respected builder and leader of customer-focused teams; strives to instill a shared, enthusiastic commitment to customer service. \\n\\nHIGHLIGHTS Focused on customer satisfaction Team management Marketing savvy Conflict resolution techniques Training and development Skilled multi-tasker Client relations specialist Accomplishments Missouri DOT Supervisor Training Certification Certified by IHG in Customer Loyalty and Marketing by Segment Hilton Worldwide General Manager Training Certification Accomplished Trainer for cross server hospitality systems such as Hilton OnQ , Micros Opera PMS , Fidelio OPERA Reservation System (ORS) , Holidex Completed courses and seminars in customer service, sales strategies, inventory control, loss prevention, safety, time management, leadership and performance assessment. \\n\\nEXPERIENCE HR Administrator/Marketing Associate\\n\\nHR Administrator Dec 2013 to Current Company Name － City , State Helps to develop policies, directs and coordinates activities such as employment, compensation, labor relations, benefits, training, and employee services. Prepares employee separation notices and related documentation Keeps records of benefits plans participation such as insurance and pension plan, personnel transactions such as hires, promotions, transfers, performance reviews, and terminations, and employee statistics for government reporting. Advises management in appropriate resolution of employee relations issues. Administers benefits programs such as life, health, dental, insurance, pension plans, vacation, sick leave, leave of absence, and employee assistance. Marketing Associate   Designed and created marketing collateral for sales meetings, trade shows and company executives. Managed the in-house advertising program consisting of print and media collateral pieces. Assisted in the complete design and launch of the company's website in 2 months. Created an official company page on Facebook to facilitate interaction with customers. Analyzed ratings and programming features of competitors to evaluate the effectiveness of marketing strategies. Advanced Medical Claims Analyst Mar 2012 to Dec 2013 Company Name － City , State Reviewed medical bills for the accuracy of the treatments, tests, and hospital stays prior to sanctioning the claims. Trained to interpret the codes (ICD-9, CPT) and terminology commonly used in medical billing to fully understand the paperwork that is submitted by healthcare providers. Required to have organizational and analytical \\n\\nSKILLS as well as computer \\n\\nSKILLS, knowledge of medical terminology and procedures, statistics, billing standards, data analysis and laws regarding medical billing. Assistant General Manager Jun 2010 to Dec 2010 Company Name － City , State Performed duties including but not limited to, budgeting and financial management, accounting, human resources, payroll and purchasing. Established and maintained close working relationships with all departments of the hotel to ensure maximum operation, productivity, morale and guest service. Handled daily operations and reported directly to the corporate office. Hired and trained staff on overall objectives and goals with an emphasis on high customer service. Marketing and Advertising, working on public relations with the media, government and local businesses and Chamber of Commerce. Executive Support / Marketing Assistant Jul 2007 to Jun 2010 Company Name － City , State Provided assistance to various department heads - Executive, Marketing, Customer Service, Human Resources. Managed front-end operations to ensure friendly and efficient transactions. Ensured the swift resolution of customer issues to preserve customer loyalty while complying with company policies. Exemplified the second-to-none customer service delivery in all interactions with customers and potential clients. Reservation & Front Office Manager Jun 2004 to Jul 2007 Company Name － City , State Owner/ Partner Dec 2001 to May 2004 Company Name － City , State Price Integrity Coordinator Aug 1999 to Dec 2001 Company Name － City , State \\n\\nEDUCATION N/A , Business Administration 1999 Jefferson College － City , State Business Administration Marketing / Advertising High School Diploma , College Prep. studies 1998 Sainte Genevieve Senior High － City , State Awarded American Shrubel Leadership Scholarship to Jefferson College \\n\\nSKILLS Accounting, ads, advertising, analytical \\n\\nSKILLS, benefits, billing, budgeting, clients, Customer Service, data analysis, delivery, documentation, employee relations, financial management, government relations, Human Resources, insurance, labor relations, layout, Marketing, marketing collateral, medical billing, medical terminology, office, organizational, payroll, performance reviews, personnel, policies, posters, presentations, public relations, purchasing, reporting, statistics, website.  \n",
       "1                                                                                                                                                                                                                                                                                                                                                                                                                                                                                                                                                                                                                                                                                                                                                                                                                                                                                                                                                                                                                                                                                                                                                                                                                                                                                                                                                                                                                                                                                                                                                                                                                                                                                                                                                                                                                                                                                                                                                                                                                                                                                                                                                                                                                                                                 HR SPECIALIST, US HR OPERATIONS \\n\\nSUMMARY Versatile media professional with background in Communications, Marketing, Human Resources and Technology.  \\n\\nEXPERIENCE 09/2015 to Current HR Specialist, US HR Operations Company Name － City , State Managed communication regarding launch of Operations group, policy changes and system outages Designed standard work and job aids to create comprehensive training program for new employees and contractors Audited job postings for old, pending, on-hold and draft positions. Audited union hourly, non-union hourly and salary background checks and drug screens Conducted monthly new hire benefits briefing to new employees across all business units Served as a link between HR Managers and vendors by handling questions and resolving system-related issues Provide real-time process improvement feedback on key metrics and initiatives Successfully re-branded US HR Operations SharePoint site Business Unit project manager for RFI/RFP on Background Check and Drug Screen vendor 01/2014 to 05/2015 IT, Marketing and Communications Co-op Company Name － City , State Posted new articles, changes and updates to corporate SharePoint site including graphics and visual communications. Researched and drafted articles and feature stories to promote company activities and programs. Co-edited and developed content for quarterly published newsletter. Provided communication support for internal and external events. Collaborated with Communication team, media professionals and vendors to determine program needs for print materials, web design and digital communications. Entrusted to lead product, service and software launches for Digital Asset Management tool, Marketing Toolkit website and Executive Tradeshows Calendar. Created presentations for management and executive approval to ensure alignment with corporate guidelines and branding. Maintained the MySikorsky SharePoint site and provided timely solutions to mitigate issues.     Created story board and produced video for annual IT All Hands meeting. 10/2012 to 01/2014 Relationship Coordinator/Marketing Specialist Company Name － City , State Partnered with vendor to manage the in-house advertising program consisting of print and media collateral pieces. Coordinated pre-show and post-show activities at trade shows. Managed marketing campaigns to generate new business and to support partner and sales teams. Ordered marketing collateral for meetings, trade shows and advisors. Improved, administered and modified marketing programs to increase product awareness. Assisted in preparing internal promotional publications, managed marketing material inventory and supervised distribution of publications to ensure high quality product output. Coordinated marketing materials including brochures, promotional materials and products. Partnered with graphic designers to develop appropriate materials and branding for brochures. Used tracking and reporting systems for sales leads and appointments. 09/2009 to 10/2012 Assistant Head Teller Company Name － City , State Received an internal audit score of 100 %. Performed daily and monthly audits of ATM machines and tellers. Educated customers on a variety of retail products and available credit options. Consistently met or exceeded quarterly sales goals Promoted products and services to customers while maintaining company brand identity\\n\\n·    \\n Implemented programs to achieve and exceed customer and company participation goals \\n\\n  Organized company sponsored events on campus resulting in increased brand awareness\\n\\n·    \\n Coached peers on the proper use of programs to improve work flow efficiency Utilized product knowledge to successfully sell to and refer clients based on individual needs Promoted marketing the grand opening of new branch locations to strengthen company brand affinity\\n\\n·     Organized company sponsored events resulting in increased brand awareness and improved sales\\n\\n·     Coached peers on the proper use of programs to increase work flow efficiency\\n\\n Senior Producer - 2014 SHU Media Exchange Company Name － City , State Planned and executed event focusing on Connecticut's creative corridor, growth of industry and opportunities that come with development. A  panel of industry professionals addressed topics related to media and hosted a question and answer session for approximately 110 attendees. Following the forum, guests were invited to engage in networking and conversation at a post-event reception. \\n\\nEDUCATION 2014 Master of Arts : Corporate Communication & Public Relations Sacred Heart University － City , State 2013 Bachelor of Arts : Relational Communication Western Connecticut State University － City , State \\n\\nSKILLS Adobe Photoshop, ADP, Asset Management, branding, brochures, content, Customer Care, Final Cut Pro, graphics, graphic, HR, Illustrator, InDesign, Innovation, inventory, Lotus Notes, marketing, marketing materials, marketing material, materials, Microsoft Office, SharePoint, newsletter, presentations, process improvement, Project Management, promotional materials, publications, Quality, real-time, Recruitment, reporting, RFP, sales, stories, Employee Development, video, web design, website, articles  \n",
       "2  HR DIRECTOR \\n\\nSUMMARY Over 20 years \\n\\nEXPERIENCE in recruiting, 15 plus years in Human Resources Executive Management, 5 years of HRIS development and maintenance 4 years working in a Healthcare Enviroment \\n\\nSKILLS Recruiting FMLA/EEO/FLSA  HRIS Development Benefit Administration Policy Development Web Page Development  Accomplishments Kansas Health Institute -Health Outcomes for the State of Kansas -1999 \\nMemberships and Accolades: Project Management Institute Member, SHRM, Chamber of Commerce, 1999 Friends University President's Honor Roll, 1997 Friends University Dean's Honor Roll, Student Liaison for Friends University Topeka (member of Mother-To-Mother, member of the Topeka \\nAdvertising Federation, several production pieces created nominated for ADDY \\n\\nAWARDS, received recognition for outstanding customer service assistance by the State of Kansas Travel and Tourism Department., ASHHRA, KAHHR, ACM. Additional Information: \\nLeading Change -I have been instrumental in development and implementation of the Adjutant General's Retention Research project, involving survey development and analyzing the results of the surveys to present to the Adjutant General to help retain the qualified talent of the Departments. I have been tasked with working with the Federal Security Manager for the Joint Forces Headquarters in developing policies, procedures and processes to ensure that all current and new State Employees have the appropriate security clearances for the position held per the Federal Government Requirements. While at LMIS, I lead the Job Vacancy Project and was able to produce results in less time and man hours than in years before with staff that were inexperienced in the JVC process and procedures. I have been responsible to develop, plan and implement database programs, for the last three positions I have held. These were designed to cultivate, involve, renew contact, and promote active and potential employees. These databases were used for reporting FTE usage, budget management and turnover reports. While working in the healthcare field, I took the initiative in creating a local website that was used to receive and respond to requests for information and assistance in marketing and promoting the healthcare facility along with recruitment of potential employees. As Human Resource Coordinator in the healthcare field, I managed the front office personnel, reduced contract labor costs for nursing staff and implemented a unique pay structure to increase PRN staff utilization. I continually think \"Outside-the-box\" to create and develop strategies to resolve issues faced in my work environment. In my current position, I have met and exceeded all hiring goals for the firm. This resulted in our client increasing the business transferred to our location. \\n\\nEXPERIENCE HR Director 09/2016 to Current Company Name City , State Developed New Website for Agency, payroll processing changes, and implementation of new HRIS System. Oversaw the employment process taking the lead role in clinician, physician and management team recruitment initiatives.\\n\\n Developed, maintain and interpret HR policy. Authored the Employee Handbook.\\n\\nProvided coaching and support to management and supervisors on performance management and other related issues. \\n\\n Maintained in-depth knowledge of legal requirements related to day-to-day management of employees,\\nreducing legal risks and ensuring regulatory compliance. Evaluated and recommend changes to the employee benefits plan. Oversaw day to day administration of benefits.  HR Director 04/2009 to 09/2016 Company Name City , State Develped Supervisory \\n\\nEDUCATION, SHRO Website, SHRO HRIS System and Automation of payroll processing. Established and directed a comprehensive statewide human resource program for both classified and unclassified State employees/positions in the Adjutant General's Department. Resolved non-routine HR related issues associated as they arose; reviewed documents and approved all hires and promotions; reviews and approved, modified and/or disapproved wage/salary requests to hire individuals above the pre-established minimum classified or unclassified pay rate,  Reviewed any significant changes to position descriptions and determined if reclassification should be pursued; reviewed position descriptions for new positions and determined the appropriate wage range based on comparable classified position (if they exist), Consulted with the TAG and both military and state manager/ supervisors in order to provide technical and common sense guidance on properly addressing sensitive or complex employee and organizational issues; aided them in achieving their ever changing program goals and provided innovative ideas for staffing; Served as the administration's management representative in labor negotiations with the local KAPE unit at the 190th Fire Department. HR Manager/Sr. Recruiter 10/2003 to 06/2006 Company Name City , State Created an HRIS tracking system used for recruitment. Responsible for Ramp up and hiring of all customer service agents, and other positions as needed. Placement and development of all advertising \\nMet and exceeded all hiring goals. Responsible for Hiring Senior Management to cover such duties as: Team Managers, Payroll, Quality Control. Responsible for recruitment of 950 new employees, meeting and exceeded goals set. Coordinated and facilitated manpower planning, recruitment and retention, career development and training, staff relations, compensation and benefits, compliance with local, state and federal statutory regulations, public programs, and regulatory audit procedures. Served as a resource person to administration, mid-level management and staff regarding HR related. Human Resources Coordinator 03/1996 to 02/2000 Company Name City , State Developed HRIS database from ground up for employee records and monitoring. Instrumental in reducing the use of Agency Staffing needs for hospital. Coordinated and facilitates manpower planning, recruitment and retention, career development and training, staff relations, compensation and benefits, compliance with local, state and federal statutory regulations, public programs, and regulatory audit procedures. Served as the HR resource source for administration, mid-level management and staff. Coordinated hiring procedures, appraisals, pay increases, promotions, transfers, terminations, job postings, and all corrective actions; One Person Office, responsible for all OSHA, Work Comp, Benefits, payroll, etc. \\n\\nEDUCATION and Training Master's Degree : Information Management Systems 05/2005 Friends University City , State , United States 3.5 Credits Earned: 62 Semester hours Information Management Systems Bachelor of Science : Organizational Management 05/2000 Friends University City , State , United States 4.0 Credits Earned: 62 Semester hours Activities and Honors Topeka Chamber of Commerce -Ambassador \\nKansas Hospital Association -Health Care Human Resources Member \\nSHRM -Legislative Liaison \\n\\nSKILLS Desktop Publishing,  Newsletter productions, DATABASE Management, Leadership \\n\\nTraining, OSHA, FMLA, \\n\\nWorkers Compensation. PageMaker, Agency Automation, back-up, Benefits, Budget management, Corel Suite, Harvard Graphics, Access, Excel, Microsoft Publisher, MS Word,  Quark Express, Quattro Pro, Strategic Planning,  Web page development, WordPerfect  "
      ],
      "text/html": [
       "<div>\n",
       "<style scoped>\n",
       "    .dataframe tbody tr th:only-of-type {\n",
       "        vertical-align: middle;\n",
       "    }\n",
       "\n",
       "    .dataframe tbody tr th {\n",
       "        vertical-align: top;\n",
       "    }\n",
       "\n",
       "    .dataframe thead th {\n",
       "        text-align: right;\n",
       "    }\n",
       "</style>\n",
       "<table border=\"1\" class=\"dataframe\">\n",
       "  <thead>\n",
       "    <tr style=\"text-align: right;\">\n",
       "      <th></th>\n",
       "      <th>ID</th>\n",
       "      <th>Category</th>\n",
       "      <th>Resume_clean</th>\n",
       "    </tr>\n",
       "  </thead>\n",
       "  <tbody>\n",
       "    <tr>\n",
       "      <th>0</th>\n",
       "      <td>16852973</td>\n",
       "      <td>HR</td>\n",
       "      <td>HR ADMINISTRATOR/MARKETING ASSOCIATE\\n\\nHR ADMINISTRATOR \\n\\nSUMMARY Dedicated Customer Service Manager with 15+ years of \\n\\nEXPERIENCE in Hospitality and Customer Service Management. Respected builder and leader of customer-focused teams; strives to instill a shared, enthusiastic commitment to customer service. \\n\\nHIGHLIGHTS Focused on customer satisfaction Team management Marketing savvy Conflict resolution techniques Training and development Skilled multi-tasker Client relations specialist Accomplishments Missouri DOT Supervisor Training Certification Certified by IHG in Customer Loyalty and Marketing by Segment Hilton Worldwide General Manager Training Certification Accomplished Trainer for cross server hospitality systems such as Hilton OnQ , Micros Opera PMS , Fidelio OPERA Reservation System (ORS) , Holidex Completed courses and seminars in customer service, sales strategies, inventory control, loss prevention, safety, time management, leadership and performance assessment. \\n\\nEXPERIENCE HR Administrator/Marketing Associate\\n\\nHR Administrator Dec 2013 to Current Company Name － City , State Helps to develop policies, directs and coordinates activities such as employment, compensation, labor relations, benefits, training, and employee services. Prepares employee separation notices and related documentation Keeps records of benefits plans participation such as insurance and pension plan, personnel transactions such as hires, promotions, transfers, performance reviews, and terminations, and employee statistics for government reporting. Advises management in appropriate resolution of employee relations issues. Administers benefits programs such as life, health, dental, insurance, pension plans, vacation, sick leave, leave of absence, and employee assistance. Marketing Associate   Designed and created marketing collateral for sales meetings, trade shows and company executives. Managed the in-house advertising program consisting of print and media collateral pieces. Assisted in the complete design and launch of the company's website in 2 months. Created an official company page on Facebook to facilitate interaction with customers. Analyzed ratings and programming features of competitors to evaluate the effectiveness of marketing strategies. Advanced Medical Claims Analyst Mar 2012 to Dec 2013 Company Name － City , State Reviewed medical bills for the accuracy of the treatments, tests, and hospital stays prior to sanctioning the claims. Trained to interpret the codes (ICD-9, CPT) and terminology commonly used in medical billing to fully understand the paperwork that is submitted by healthcare providers. Required to have organizational and analytical \\n\\nSKILLS as well as computer \\n\\nSKILLS, knowledge of medical terminology and procedures, statistics, billing standards, data analysis and laws regarding medical billing. Assistant General Manager Jun 2010 to Dec 2010 Company Name － City , State Performed duties including but not limited to, budgeting and financial management, accounting, human resources, payroll and purchasing. Established and maintained close working relationships with all departments of the hotel to ensure maximum operation, productivity, morale and guest service. Handled daily operations and reported directly to the corporate office. Hired and trained staff on overall objectives and goals with an emphasis on high customer service. Marketing and Advertising, working on public relations with the media, government and local businesses and Chamber of Commerce. Executive Support / Marketing Assistant Jul 2007 to Jun 2010 Company Name － City , State Provided assistance to various department heads - Executive, Marketing, Customer Service, Human Resources. Managed front-end operations to ensure friendly and efficient transactions. Ensured the swift resolution of customer issues to preserve customer loyalty while complying with company policies. Exemplified the second-to-none customer service delivery in all interactions with customers and potential clients. Reservation &amp; Front Office Manager Jun 2004 to Jul 2007 Company Name － City , State Owner/ Partner Dec 2001 to May 2004 Company Name － City , State Price Integrity Coordinator Aug 1999 to Dec 2001 Company Name － City , State \\n\\nEDUCATION N/A , Business Administration 1999 Jefferson College － City , State Business Administration Marketing / Advertising High School Diploma , College Prep. studies 1998 Sainte Genevieve Senior High － City , State Awarded American Shrubel Leadership Scholarship to Jefferson College \\n\\nSKILLS Accounting, ads, advertising, analytical \\n\\nSKILLS, benefits, billing, budgeting, clients, Customer Service, data analysis, delivery, documentation, employee relations, financial management, government relations, Human Resources, insurance, labor relations, layout, Marketing, marketing collateral, medical billing, medical terminology, office, organizational, payroll, performance reviews, personnel, policies, posters, presentations, public relations, purchasing, reporting, statistics, website.</td>\n",
       "    </tr>\n",
       "    <tr>\n",
       "      <th>1</th>\n",
       "      <td>22323967</td>\n",
       "      <td>HR</td>\n",
       "      <td>HR SPECIALIST, US HR OPERATIONS \\n\\nSUMMARY Versatile media professional with background in Communications, Marketing, Human Resources and Technology.  \\n\\nEXPERIENCE 09/2015 to Current HR Specialist, US HR Operations Company Name － City , State Managed communication regarding launch of Operations group, policy changes and system outages Designed standard work and job aids to create comprehensive training program for new employees and contractors Audited job postings for old, pending, on-hold and draft positions. Audited union hourly, non-union hourly and salary background checks and drug screens Conducted monthly new hire benefits briefing to new employees across all business units Served as a link between HR Managers and vendors by handling questions and resolving system-related issues Provide real-time process improvement feedback on key metrics and initiatives Successfully re-branded US HR Operations SharePoint site Business Unit project manager for RFI/RFP on Background Check and Drug Screen vendor 01/2014 to 05/2015 IT, Marketing and Communications Co-op Company Name － City , State Posted new articles, changes and updates to corporate SharePoint site including graphics and visual communications. Researched and drafted articles and feature stories to promote company activities and programs. Co-edited and developed content for quarterly published newsletter. Provided communication support for internal and external events. Collaborated with Communication team, media professionals and vendors to determine program needs for print materials, web design and digital communications. Entrusted to lead product, service and software launches for Digital Asset Management tool, Marketing Toolkit website and Executive Tradeshows Calendar. Created presentations for management and executive approval to ensure alignment with corporate guidelines and branding. Maintained the MySikorsky SharePoint site and provided timely solutions to mitigate issues.     Created story board and produced video for annual IT All Hands meeting. 10/2012 to 01/2014 Relationship Coordinator/Marketing Specialist Company Name － City , State Partnered with vendor to manage the in-house advertising program consisting of print and media collateral pieces. Coordinated pre-show and post-show activities at trade shows. Managed marketing campaigns to generate new business and to support partner and sales teams. Ordered marketing collateral for meetings, trade shows and advisors. Improved, administered and modified marketing programs to increase product awareness. Assisted in preparing internal promotional publications, managed marketing material inventory and supervised distribution of publications to ensure high quality product output. Coordinated marketing materials including brochures, promotional materials and products. Partnered with graphic designers to develop appropriate materials and branding for brochures. Used tracking and reporting systems for sales leads and appointments. 09/2009 to 10/2012 Assistant Head Teller Company Name － City , State Received an internal audit score of 100 %. Performed daily and monthly audits of ATM machines and tellers. Educated customers on a variety of retail products and available credit options. Consistently met or exceeded quarterly sales goals Promoted products and services to customers while maintaining company brand identity\\n\\n·    \\n Implemented programs to achieve and exceed customer and company participation goals \\n\\n  Organized company sponsored events on campus resulting in increased brand awareness\\n\\n·    \\n Coached peers on the proper use of programs to improve work flow efficiency Utilized product knowledge to successfully sell to and refer clients based on individual needs Promoted marketing the grand opening of new branch locations to strengthen company brand affinity\\n\\n·     Organized company sponsored events resulting in increased brand awareness and improved sales\\n\\n·     Coached peers on the proper use of programs to increase work flow efficiency\\n\\n Senior Producer - 2014 SHU Media Exchange Company Name － City , State Planned and executed event focusing on Connecticut's creative corridor, growth of industry and opportunities that come with development. A  panel of industry professionals addressed topics related to media and hosted a question and answer session for approximately 110 attendees. Following the forum, guests were invited to engage in networking and conversation at a post-event reception. \\n\\nEDUCATION 2014 Master of Arts : Corporate Communication &amp; Public Relations Sacred Heart University － City , State 2013 Bachelor of Arts : Relational Communication Western Connecticut State University － City , State \\n\\nSKILLS Adobe Photoshop, ADP, Asset Management, branding, brochures, content, Customer Care, Final Cut Pro, graphics, graphic, HR, Illustrator, InDesign, Innovation, inventory, Lotus Notes, marketing, marketing materials, marketing material, materials, Microsoft Office, SharePoint, newsletter, presentations, process improvement, Project Management, promotional materials, publications, Quality, real-time, Recruitment, reporting, RFP, sales, stories, Employee Development, video, web design, website, articles</td>\n",
       "    </tr>\n",
       "    <tr>\n",
       "      <th>2</th>\n",
       "      <td>33176873</td>\n",
       "      <td>HR</td>\n",
       "      <td>HR DIRECTOR \\n\\nSUMMARY Over 20 years \\n\\nEXPERIENCE in recruiting, 15 plus years in Human Resources Executive Management, 5 years of HRIS development and maintenance 4 years working in a Healthcare Enviroment \\n\\nSKILLS Recruiting FMLA/EEO/FLSA  HRIS Development Benefit Administration Policy Development Web Page Development  Accomplishments Kansas Health Institute -Health Outcomes for the State of Kansas -1999 \\nMemberships and Accolades: Project Management Institute Member, SHRM, Chamber of Commerce, 1999 Friends University President's Honor Roll, 1997 Friends University Dean's Honor Roll, Student Liaison for Friends University Topeka (member of Mother-To-Mother, member of the Topeka \\nAdvertising Federation, several production pieces created nominated for ADDY \\n\\nAWARDS, received recognition for outstanding customer service assistance by the State of Kansas Travel and Tourism Department., ASHHRA, KAHHR, ACM. Additional Information: \\nLeading Change -I have been instrumental in development and implementation of the Adjutant General's Retention Research project, involving survey development and analyzing the results of the surveys to present to the Adjutant General to help retain the qualified talent of the Departments. I have been tasked with working with the Federal Security Manager for the Joint Forces Headquarters in developing policies, procedures and processes to ensure that all current and new State Employees have the appropriate security clearances for the position held per the Federal Government Requirements. While at LMIS, I lead the Job Vacancy Project and was able to produce results in less time and man hours than in years before with staff that were inexperienced in the JVC process and procedures. I have been responsible to develop, plan and implement database programs, for the last three positions I have held. These were designed to cultivate, involve, renew contact, and promote active and potential employees. These databases were used for reporting FTE usage, budget management and turnover reports. While working in the healthcare field, I took the initiative in creating a local website that was used to receive and respond to requests for information and assistance in marketing and promoting the healthcare facility along with recruitment of potential employees. As Human Resource Coordinator in the healthcare field, I managed the front office personnel, reduced contract labor costs for nursing staff and implemented a unique pay structure to increase PRN staff utilization. I continually think \"Outside-the-box\" to create and develop strategies to resolve issues faced in my work environment. In my current position, I have met and exceeded all hiring goals for the firm. This resulted in our client increasing the business transferred to our location. \\n\\nEXPERIENCE HR Director 09/2016 to Current Company Name City , State Developed New Website for Agency, payroll processing changes, and implementation of new HRIS System. Oversaw the employment process taking the lead role in clinician, physician and management team recruitment initiatives.\\n\\n Developed, maintain and interpret HR policy. Authored the Employee Handbook.\\n\\nProvided coaching and support to management and supervisors on performance management and other related issues. \\n\\n Maintained in-depth knowledge of legal requirements related to day-to-day management of employees,\\nreducing legal risks and ensuring regulatory compliance. Evaluated and recommend changes to the employee benefits plan. Oversaw day to day administration of benefits.  HR Director 04/2009 to 09/2016 Company Name City , State Develped Supervisory \\n\\nEDUCATION, SHRO Website, SHRO HRIS System and Automation of payroll processing. Established and directed a comprehensive statewide human resource program for both classified and unclassified State employees/positions in the Adjutant General's Department. Resolved non-routine HR related issues associated as they arose; reviewed documents and approved all hires and promotions; reviews and approved, modified and/or disapproved wage/salary requests to hire individuals above the pre-established minimum classified or unclassified pay rate,  Reviewed any significant changes to position descriptions and determined if reclassification should be pursued; reviewed position descriptions for new positions and determined the appropriate wage range based on comparable classified position (if they exist), Consulted with the TAG and both military and state manager/ supervisors in order to provide technical and common sense guidance on properly addressing sensitive or complex employee and organizational issues; aided them in achieving their ever changing program goals and provided innovative ideas for staffing; Served as the administration's management representative in labor negotiations with the local KAPE unit at the 190th Fire Department. HR Manager/Sr. Recruiter 10/2003 to 06/2006 Company Name City , State Created an HRIS tracking system used for recruitment. Responsible for Ramp up and hiring of all customer service agents, and other positions as needed. Placement and development of all advertising \\nMet and exceeded all hiring goals. Responsible for Hiring Senior Management to cover such duties as: Team Managers, Payroll, Quality Control. Responsible for recruitment of 950 new employees, meeting and exceeded goals set. Coordinated and facilitated manpower planning, recruitment and retention, career development and training, staff relations, compensation and benefits, compliance with local, state and federal statutory regulations, public programs, and regulatory audit procedures. Served as a resource person to administration, mid-level management and staff regarding HR related. Human Resources Coordinator 03/1996 to 02/2000 Company Name City , State Developed HRIS database from ground up for employee records and monitoring. Instrumental in reducing the use of Agency Staffing needs for hospital. Coordinated and facilitates manpower planning, recruitment and retention, career development and training, staff relations, compensation and benefits, compliance with local, state and federal statutory regulations, public programs, and regulatory audit procedures. Served as the HR resource source for administration, mid-level management and staff. Coordinated hiring procedures, appraisals, pay increases, promotions, transfers, terminations, job postings, and all corrective actions; One Person Office, responsible for all OSHA, Work Comp, Benefits, payroll, etc. \\n\\nEDUCATION and Training Master's Degree : Information Management Systems 05/2005 Friends University City , State , United States 3.5 Credits Earned: 62 Semester hours Information Management Systems Bachelor of Science : Organizational Management 05/2000 Friends University City , State , United States 4.0 Credits Earned: 62 Semester hours Activities and Honors Topeka Chamber of Commerce -Ambassador \\nKansas Hospital Association -Health Care Human Resources Member \\nSHRM -Legislative Liaison \\n\\nSKILLS Desktop Publishing,  Newsletter productions, DATABASE Management, Leadership \\n\\nTraining, OSHA, FMLA, \\n\\nWorkers Compensation. PageMaker, Agency Automation, back-up, Benefits, Budget management, Corel Suite, Harvard Graphics, Access, Excel, Microsoft Publisher, MS Word,  Quark Express, Quattro Pro, Strategic Planning,  Web page development, WordPerfect</td>\n",
       "    </tr>\n",
       "  </tbody>\n",
       "</table>\n",
       "</div>"
      ]
     },
     "execution_count": 10,
     "metadata": {},
     "output_type": "execute_result"
    }
   ],
   "execution_count": 10
  },
  {
   "metadata": {},
   "cell_type": "markdown",
   "source": "### Entity Extraction (Use  in HR: Skill, Experience,Education etc.)",
   "id": "a103d1a75b6a034e"
  },
  {
   "metadata": {
    "ExecuteTime": {
     "end_time": "2025-10-14T15:35:49.794564Z",
     "start_time": "2025-10-14T15:35:49.780678Z"
    }
   },
   "cell_type": "code",
   "source": "df.info()",
   "id": "9bc1705d4c4fb3a9",
   "outputs": [
    {
     "name": "stdout",
     "output_type": "stream",
     "text": [
      "<class 'pandas.core.frame.DataFrame'>\n",
      "RangeIndex: 2484 entries, 0 to 2483\n",
      "Data columns (total 4 columns):\n",
      " #   Column        Non-Null Count  Dtype \n",
      "---  ------        --------------  ----- \n",
      " 0   ID            2484 non-null   int64 \n",
      " 1   Resume_str    2484 non-null   object\n",
      " 2   Category      2484 non-null   object\n",
      " 3   Resume_clean  2484 non-null   object\n",
      "dtypes: int64(1), object(3)\n",
      "memory usage: 77.8+ KB\n"
     ]
    }
   ],
   "execution_count": 11
  },
  {
   "metadata": {
    "ExecuteTime": {
     "end_time": "2025-10-14T15:35:51.822913Z",
     "start_time": "2025-10-14T15:35:51.803139Z"
    }
   },
   "cell_type": "code",
   "source": [
    "# Filter for HR category only\n",
    "df_hr = df[df[\"Category\"].str.upper() == \"HR\"].reset_index(drop=True)\n",
    "\n",
    "# Check how many HR resumes \n",
    "print(\"Number of HR resumes:\", df_hr.shape[0])\n",
    "\n",
    "# Quick preview\n",
    "df_hr[[\"ID\", \"Category\", \"Resume_clean\"]].head(3)\n",
    "\n"
   ],
   "id": "7ef124add7e4ed7b",
   "outputs": [
    {
     "name": "stdout",
     "output_type": "stream",
     "text": [
      "Number of HR resumes: 110\n"
     ]
    },
    {
     "data": {
      "text/plain": [
       "         ID Category  \\\n",
       "0  16852973       HR   \n",
       "1  22323967       HR   \n",
       "2  33176873       HR   \n",
       "\n",
       "                                                                                                                                                                                                                                                                                                                                                                                                                                                                                                                                                                                                                                                                                                                                                                                                                                                                                                                                                                                                                                                                                                                                                                                                                                                                                                                                                                                                                                                                                                                                                                                                                                                                                                                                                                                                                                                                                                                                                                                                                                                                                                                                                                                                                                                                                                                                                                                                                                                                                                                                                                                                                                                                                                                                                                                                                                                                                                                                                                                                                                                                                                                                                                                                                                                                                                                                                                                                                                                                                                                                                                                                                                                                                                                                                                                                                                                                                                                                                                                                                                                                                                                                                                                                                                                                                                                                                                                                                                                                                                                                                                                                                                                                                                                                                                                                                                                                                                                                                                                                                                                                                                                                                                                                                                                                                                                                                                                                                                                                                                                                                                                                                                                                                                                                                                                                                                                                                                                                                                                                                                                                                                                                                                                                                                                                                                                                                                                                                                                                                                                                                                                                                                                                                                                                                                                                                                                                                                                                                                                                                                                                                                                                                                                                                                                                                                                                                                                                                                                                                                                                                                                                                                                                                                           Resume_clean  \n",
       "0                                                                                                                                                                                                                                                                                                                                                                                                                                                                                                                                                                                                                                                                                                                                                                                                                                                                                                                                                                                                                                                                                                                                                                                                                                                                                                                                                                                                                                                                                                                                                                                                                                                                                                                                                                                                                                                                                                                                                                                                                                                                                                                                                                                                                                                                                                                                                                                                                                       HR ADMINISTRATOR/MARKETING ASSOCIATE\\n\\nHR ADMINISTRATOR \\n\\nSUMMARY Dedicated Customer Service Manager with 15+ years of \\n\\nEXPERIENCE in Hospitality and Customer Service Management. Respected builder and leader of customer-focused teams; strives to instill a shared, enthusiastic commitment to customer service. \\n\\nHIGHLIGHTS Focused on customer satisfaction Team management Marketing savvy Conflict resolution techniques Training and development Skilled multi-tasker Client relations specialist Accomplishments Missouri DOT Supervisor Training Certification Certified by IHG in Customer Loyalty and Marketing by Segment Hilton Worldwide General Manager Training Certification Accomplished Trainer for cross server hospitality systems such as Hilton OnQ , Micros Opera PMS , Fidelio OPERA Reservation System (ORS) , Holidex Completed courses and seminars in customer service, sales strategies, inventory control, loss prevention, safety, time management, leadership and performance assessment. \\n\\nEXPERIENCE HR Administrator/Marketing Associate\\n\\nHR Administrator Dec 2013 to Current Company Name － City , State Helps to develop policies, directs and coordinates activities such as employment, compensation, labor relations, benefits, training, and employee services. Prepares employee separation notices and related documentation Keeps records of benefits plans participation such as insurance and pension plan, personnel transactions such as hires, promotions, transfers, performance reviews, and terminations, and employee statistics for government reporting. Advises management in appropriate resolution of employee relations issues. Administers benefits programs such as life, health, dental, insurance, pension plans, vacation, sick leave, leave of absence, and employee assistance. Marketing Associate   Designed and created marketing collateral for sales meetings, trade shows and company executives. Managed the in-house advertising program consisting of print and media collateral pieces. Assisted in the complete design and launch of the company's website in 2 months. Created an official company page on Facebook to facilitate interaction with customers. Analyzed ratings and programming features of competitors to evaluate the effectiveness of marketing strategies. Advanced Medical Claims Analyst Mar 2012 to Dec 2013 Company Name － City , State Reviewed medical bills for the accuracy of the treatments, tests, and hospital stays prior to sanctioning the claims. Trained to interpret the codes (ICD-9, CPT) and terminology commonly used in medical billing to fully understand the paperwork that is submitted by healthcare providers. Required to have organizational and analytical \\n\\nSKILLS as well as computer \\n\\nSKILLS, knowledge of medical terminology and procedures, statistics, billing standards, data analysis and laws regarding medical billing. Assistant General Manager Jun 2010 to Dec 2010 Company Name － City , State Performed duties including but not limited to, budgeting and financial management, accounting, human resources, payroll and purchasing. Established and maintained close working relationships with all departments of the hotel to ensure maximum operation, productivity, morale and guest service. Handled daily operations and reported directly to the corporate office. Hired and trained staff on overall objectives and goals with an emphasis on high customer service. Marketing and Advertising, working on public relations with the media, government and local businesses and Chamber of Commerce. Executive Support / Marketing Assistant Jul 2007 to Jun 2010 Company Name － City , State Provided assistance to various department heads - Executive, Marketing, Customer Service, Human Resources. Managed front-end operations to ensure friendly and efficient transactions. Ensured the swift resolution of customer issues to preserve customer loyalty while complying with company policies. Exemplified the second-to-none customer service delivery in all interactions with customers and potential clients. Reservation & Front Office Manager Jun 2004 to Jul 2007 Company Name － City , State Owner/ Partner Dec 2001 to May 2004 Company Name － City , State Price Integrity Coordinator Aug 1999 to Dec 2001 Company Name － City , State \\n\\nEDUCATION N/A , Business Administration 1999 Jefferson College － City , State Business Administration Marketing / Advertising High School Diploma , College Prep. studies 1998 Sainte Genevieve Senior High － City , State Awarded American Shrubel Leadership Scholarship to Jefferson College \\n\\nSKILLS Accounting, ads, advertising, analytical \\n\\nSKILLS, benefits, billing, budgeting, clients, Customer Service, data analysis, delivery, documentation, employee relations, financial management, government relations, Human Resources, insurance, labor relations, layout, Marketing, marketing collateral, medical billing, medical terminology, office, organizational, payroll, performance reviews, personnel, policies, posters, presentations, public relations, purchasing, reporting, statistics, website.  \n",
       "1                                                                                                                                                                                                                                                                                                                                                                                                                                                                                                                                                                                                                                                                                                                                                                                                                                                                                                                                                                                                                                                                                                                                                                                                                                                                                                                                                                                                                                                                                                                                                                                                                                                                                                                                                                                                                                                                                                                                                                                                                                                                                                                                                                                                                                                                 HR SPECIALIST, US HR OPERATIONS \\n\\nSUMMARY Versatile media professional with background in Communications, Marketing, Human Resources and Technology.  \\n\\nEXPERIENCE 09/2015 to Current HR Specialist, US HR Operations Company Name － City , State Managed communication regarding launch of Operations group, policy changes and system outages Designed standard work and job aids to create comprehensive training program for new employees and contractors Audited job postings for old, pending, on-hold and draft positions. Audited union hourly, non-union hourly and salary background checks and drug screens Conducted monthly new hire benefits briefing to new employees across all business units Served as a link between HR Managers and vendors by handling questions and resolving system-related issues Provide real-time process improvement feedback on key metrics and initiatives Successfully re-branded US HR Operations SharePoint site Business Unit project manager for RFI/RFP on Background Check and Drug Screen vendor 01/2014 to 05/2015 IT, Marketing and Communications Co-op Company Name － City , State Posted new articles, changes and updates to corporate SharePoint site including graphics and visual communications. Researched and drafted articles and feature stories to promote company activities and programs. Co-edited and developed content for quarterly published newsletter. Provided communication support for internal and external events. Collaborated with Communication team, media professionals and vendors to determine program needs for print materials, web design and digital communications. Entrusted to lead product, service and software launches for Digital Asset Management tool, Marketing Toolkit website and Executive Tradeshows Calendar. Created presentations for management and executive approval to ensure alignment with corporate guidelines and branding. Maintained the MySikorsky SharePoint site and provided timely solutions to mitigate issues.     Created story board and produced video for annual IT All Hands meeting. 10/2012 to 01/2014 Relationship Coordinator/Marketing Specialist Company Name － City , State Partnered with vendor to manage the in-house advertising program consisting of print and media collateral pieces. Coordinated pre-show and post-show activities at trade shows. Managed marketing campaigns to generate new business and to support partner and sales teams. Ordered marketing collateral for meetings, trade shows and advisors. Improved, administered and modified marketing programs to increase product awareness. Assisted in preparing internal promotional publications, managed marketing material inventory and supervised distribution of publications to ensure high quality product output. Coordinated marketing materials including brochures, promotional materials and products. Partnered with graphic designers to develop appropriate materials and branding for brochures. Used tracking and reporting systems for sales leads and appointments. 09/2009 to 10/2012 Assistant Head Teller Company Name － City , State Received an internal audit score of 100 %. Performed daily and monthly audits of ATM machines and tellers. Educated customers on a variety of retail products and available credit options. Consistently met or exceeded quarterly sales goals Promoted products and services to customers while maintaining company brand identity\\n\\n·    \\n Implemented programs to achieve and exceed customer and company participation goals \\n\\n  Organized company sponsored events on campus resulting in increased brand awareness\\n\\n·    \\n Coached peers on the proper use of programs to improve work flow efficiency Utilized product knowledge to successfully sell to and refer clients based on individual needs Promoted marketing the grand opening of new branch locations to strengthen company brand affinity\\n\\n·     Organized company sponsored events resulting in increased brand awareness and improved sales\\n\\n·     Coached peers on the proper use of programs to increase work flow efficiency\\n\\n Senior Producer - 2014 SHU Media Exchange Company Name － City , State Planned and executed event focusing on Connecticut's creative corridor, growth of industry and opportunities that come with development. A  panel of industry professionals addressed topics related to media and hosted a question and answer session for approximately 110 attendees. Following the forum, guests were invited to engage in networking and conversation at a post-event reception. \\n\\nEDUCATION 2014 Master of Arts : Corporate Communication & Public Relations Sacred Heart University － City , State 2013 Bachelor of Arts : Relational Communication Western Connecticut State University － City , State \\n\\nSKILLS Adobe Photoshop, ADP, Asset Management, branding, brochures, content, Customer Care, Final Cut Pro, graphics, graphic, HR, Illustrator, InDesign, Innovation, inventory, Lotus Notes, marketing, marketing materials, marketing material, materials, Microsoft Office, SharePoint, newsletter, presentations, process improvement, Project Management, promotional materials, publications, Quality, real-time, Recruitment, reporting, RFP, sales, stories, Employee Development, video, web design, website, articles  \n",
       "2  HR DIRECTOR \\n\\nSUMMARY Over 20 years \\n\\nEXPERIENCE in recruiting, 15 plus years in Human Resources Executive Management, 5 years of HRIS development and maintenance 4 years working in a Healthcare Enviroment \\n\\nSKILLS Recruiting FMLA/EEO/FLSA  HRIS Development Benefit Administration Policy Development Web Page Development  Accomplishments Kansas Health Institute -Health Outcomes for the State of Kansas -1999 \\nMemberships and Accolades: Project Management Institute Member, SHRM, Chamber of Commerce, 1999 Friends University President's Honor Roll, 1997 Friends University Dean's Honor Roll, Student Liaison for Friends University Topeka (member of Mother-To-Mother, member of the Topeka \\nAdvertising Federation, several production pieces created nominated for ADDY \\n\\nAWARDS, received recognition for outstanding customer service assistance by the State of Kansas Travel and Tourism Department., ASHHRA, KAHHR, ACM. Additional Information: \\nLeading Change -I have been instrumental in development and implementation of the Adjutant General's Retention Research project, involving survey development and analyzing the results of the surveys to present to the Adjutant General to help retain the qualified talent of the Departments. I have been tasked with working with the Federal Security Manager for the Joint Forces Headquarters in developing policies, procedures and processes to ensure that all current and new State Employees have the appropriate security clearances for the position held per the Federal Government Requirements. While at LMIS, I lead the Job Vacancy Project and was able to produce results in less time and man hours than in years before with staff that were inexperienced in the JVC process and procedures. I have been responsible to develop, plan and implement database programs, for the last three positions I have held. These were designed to cultivate, involve, renew contact, and promote active and potential employees. These databases were used for reporting FTE usage, budget management and turnover reports. While working in the healthcare field, I took the initiative in creating a local website that was used to receive and respond to requests for information and assistance in marketing and promoting the healthcare facility along with recruitment of potential employees. As Human Resource Coordinator in the healthcare field, I managed the front office personnel, reduced contract labor costs for nursing staff and implemented a unique pay structure to increase PRN staff utilization. I continually think \"Outside-the-box\" to create and develop strategies to resolve issues faced in my work environment. In my current position, I have met and exceeded all hiring goals for the firm. This resulted in our client increasing the business transferred to our location. \\n\\nEXPERIENCE HR Director 09/2016 to Current Company Name City , State Developed New Website for Agency, payroll processing changes, and implementation of new HRIS System. Oversaw the employment process taking the lead role in clinician, physician and management team recruitment initiatives.\\n\\n Developed, maintain and interpret HR policy. Authored the Employee Handbook.\\n\\nProvided coaching and support to management and supervisors on performance management and other related issues. \\n\\n Maintained in-depth knowledge of legal requirements related to day-to-day management of employees,\\nreducing legal risks and ensuring regulatory compliance. Evaluated and recommend changes to the employee benefits plan. Oversaw day to day administration of benefits.  HR Director 04/2009 to 09/2016 Company Name City , State Develped Supervisory \\n\\nEDUCATION, SHRO Website, SHRO HRIS System and Automation of payroll processing. Established and directed a comprehensive statewide human resource program for both classified and unclassified State employees/positions in the Adjutant General's Department. Resolved non-routine HR related issues associated as they arose; reviewed documents and approved all hires and promotions; reviews and approved, modified and/or disapproved wage/salary requests to hire individuals above the pre-established minimum classified or unclassified pay rate,  Reviewed any significant changes to position descriptions and determined if reclassification should be pursued; reviewed position descriptions for new positions and determined the appropriate wage range based on comparable classified position (if they exist), Consulted with the TAG and both military and state manager/ supervisors in order to provide technical and common sense guidance on properly addressing sensitive or complex employee and organizational issues; aided them in achieving their ever changing program goals and provided innovative ideas for staffing; Served as the administration's management representative in labor negotiations with the local KAPE unit at the 190th Fire Department. HR Manager/Sr. Recruiter 10/2003 to 06/2006 Company Name City , State Created an HRIS tracking system used for recruitment. Responsible for Ramp up and hiring of all customer service agents, and other positions as needed. Placement and development of all advertising \\nMet and exceeded all hiring goals. Responsible for Hiring Senior Management to cover such duties as: Team Managers, Payroll, Quality Control. Responsible for recruitment of 950 new employees, meeting and exceeded goals set. Coordinated and facilitated manpower planning, recruitment and retention, career development and training, staff relations, compensation and benefits, compliance with local, state and federal statutory regulations, public programs, and regulatory audit procedures. Served as a resource person to administration, mid-level management and staff regarding HR related. Human Resources Coordinator 03/1996 to 02/2000 Company Name City , State Developed HRIS database from ground up for employee records and monitoring. Instrumental in reducing the use of Agency Staffing needs for hospital. Coordinated and facilitates manpower planning, recruitment and retention, career development and training, staff relations, compensation and benefits, compliance with local, state and federal statutory regulations, public programs, and regulatory audit procedures. Served as the HR resource source for administration, mid-level management and staff. Coordinated hiring procedures, appraisals, pay increases, promotions, transfers, terminations, job postings, and all corrective actions; One Person Office, responsible for all OSHA, Work Comp, Benefits, payroll, etc. \\n\\nEDUCATION and Training Master's Degree : Information Management Systems 05/2005 Friends University City , State , United States 3.5 Credits Earned: 62 Semester hours Information Management Systems Bachelor of Science : Organizational Management 05/2000 Friends University City , State , United States 4.0 Credits Earned: 62 Semester hours Activities and Honors Topeka Chamber of Commerce -Ambassador \\nKansas Hospital Association -Health Care Human Resources Member \\nSHRM -Legislative Liaison \\n\\nSKILLS Desktop Publishing,  Newsletter productions, DATABASE Management, Leadership \\n\\nTraining, OSHA, FMLA, \\n\\nWorkers Compensation. PageMaker, Agency Automation, back-up, Benefits, Budget management, Corel Suite, Harvard Graphics, Access, Excel, Microsoft Publisher, MS Word,  Quark Express, Quattro Pro, Strategic Planning,  Web page development, WordPerfect  "
      ],
      "text/html": [
       "<div>\n",
       "<style scoped>\n",
       "    .dataframe tbody tr th:only-of-type {\n",
       "        vertical-align: middle;\n",
       "    }\n",
       "\n",
       "    .dataframe tbody tr th {\n",
       "        vertical-align: top;\n",
       "    }\n",
       "\n",
       "    .dataframe thead th {\n",
       "        text-align: right;\n",
       "    }\n",
       "</style>\n",
       "<table border=\"1\" class=\"dataframe\">\n",
       "  <thead>\n",
       "    <tr style=\"text-align: right;\">\n",
       "      <th></th>\n",
       "      <th>ID</th>\n",
       "      <th>Category</th>\n",
       "      <th>Resume_clean</th>\n",
       "    </tr>\n",
       "  </thead>\n",
       "  <tbody>\n",
       "    <tr>\n",
       "      <th>0</th>\n",
       "      <td>16852973</td>\n",
       "      <td>HR</td>\n",
       "      <td>HR ADMINISTRATOR/MARKETING ASSOCIATE\\n\\nHR ADMINISTRATOR \\n\\nSUMMARY Dedicated Customer Service Manager with 15+ years of \\n\\nEXPERIENCE in Hospitality and Customer Service Management. Respected builder and leader of customer-focused teams; strives to instill a shared, enthusiastic commitment to customer service. \\n\\nHIGHLIGHTS Focused on customer satisfaction Team management Marketing savvy Conflict resolution techniques Training and development Skilled multi-tasker Client relations specialist Accomplishments Missouri DOT Supervisor Training Certification Certified by IHG in Customer Loyalty and Marketing by Segment Hilton Worldwide General Manager Training Certification Accomplished Trainer for cross server hospitality systems such as Hilton OnQ , Micros Opera PMS , Fidelio OPERA Reservation System (ORS) , Holidex Completed courses and seminars in customer service, sales strategies, inventory control, loss prevention, safety, time management, leadership and performance assessment. \\n\\nEXPERIENCE HR Administrator/Marketing Associate\\n\\nHR Administrator Dec 2013 to Current Company Name － City , State Helps to develop policies, directs and coordinates activities such as employment, compensation, labor relations, benefits, training, and employee services. Prepares employee separation notices and related documentation Keeps records of benefits plans participation such as insurance and pension plan, personnel transactions such as hires, promotions, transfers, performance reviews, and terminations, and employee statistics for government reporting. Advises management in appropriate resolution of employee relations issues. Administers benefits programs such as life, health, dental, insurance, pension plans, vacation, sick leave, leave of absence, and employee assistance. Marketing Associate   Designed and created marketing collateral for sales meetings, trade shows and company executives. Managed the in-house advertising program consisting of print and media collateral pieces. Assisted in the complete design and launch of the company's website in 2 months. Created an official company page on Facebook to facilitate interaction with customers. Analyzed ratings and programming features of competitors to evaluate the effectiveness of marketing strategies. Advanced Medical Claims Analyst Mar 2012 to Dec 2013 Company Name － City , State Reviewed medical bills for the accuracy of the treatments, tests, and hospital stays prior to sanctioning the claims. Trained to interpret the codes (ICD-9, CPT) and terminology commonly used in medical billing to fully understand the paperwork that is submitted by healthcare providers. Required to have organizational and analytical \\n\\nSKILLS as well as computer \\n\\nSKILLS, knowledge of medical terminology and procedures, statistics, billing standards, data analysis and laws regarding medical billing. Assistant General Manager Jun 2010 to Dec 2010 Company Name － City , State Performed duties including but not limited to, budgeting and financial management, accounting, human resources, payroll and purchasing. Established and maintained close working relationships with all departments of the hotel to ensure maximum operation, productivity, morale and guest service. Handled daily operations and reported directly to the corporate office. Hired and trained staff on overall objectives and goals with an emphasis on high customer service. Marketing and Advertising, working on public relations with the media, government and local businesses and Chamber of Commerce. Executive Support / Marketing Assistant Jul 2007 to Jun 2010 Company Name － City , State Provided assistance to various department heads - Executive, Marketing, Customer Service, Human Resources. Managed front-end operations to ensure friendly and efficient transactions. Ensured the swift resolution of customer issues to preserve customer loyalty while complying with company policies. Exemplified the second-to-none customer service delivery in all interactions with customers and potential clients. Reservation &amp; Front Office Manager Jun 2004 to Jul 2007 Company Name － City , State Owner/ Partner Dec 2001 to May 2004 Company Name － City , State Price Integrity Coordinator Aug 1999 to Dec 2001 Company Name － City , State \\n\\nEDUCATION N/A , Business Administration 1999 Jefferson College － City , State Business Administration Marketing / Advertising High School Diploma , College Prep. studies 1998 Sainte Genevieve Senior High － City , State Awarded American Shrubel Leadership Scholarship to Jefferson College \\n\\nSKILLS Accounting, ads, advertising, analytical \\n\\nSKILLS, benefits, billing, budgeting, clients, Customer Service, data analysis, delivery, documentation, employee relations, financial management, government relations, Human Resources, insurance, labor relations, layout, Marketing, marketing collateral, medical billing, medical terminology, office, organizational, payroll, performance reviews, personnel, policies, posters, presentations, public relations, purchasing, reporting, statistics, website.</td>\n",
       "    </tr>\n",
       "    <tr>\n",
       "      <th>1</th>\n",
       "      <td>22323967</td>\n",
       "      <td>HR</td>\n",
       "      <td>HR SPECIALIST, US HR OPERATIONS \\n\\nSUMMARY Versatile media professional with background in Communications, Marketing, Human Resources and Technology.  \\n\\nEXPERIENCE 09/2015 to Current HR Specialist, US HR Operations Company Name － City , State Managed communication regarding launch of Operations group, policy changes and system outages Designed standard work and job aids to create comprehensive training program for new employees and contractors Audited job postings for old, pending, on-hold and draft positions. Audited union hourly, non-union hourly and salary background checks and drug screens Conducted monthly new hire benefits briefing to new employees across all business units Served as a link between HR Managers and vendors by handling questions and resolving system-related issues Provide real-time process improvement feedback on key metrics and initiatives Successfully re-branded US HR Operations SharePoint site Business Unit project manager for RFI/RFP on Background Check and Drug Screen vendor 01/2014 to 05/2015 IT, Marketing and Communications Co-op Company Name － City , State Posted new articles, changes and updates to corporate SharePoint site including graphics and visual communications. Researched and drafted articles and feature stories to promote company activities and programs. Co-edited and developed content for quarterly published newsletter. Provided communication support for internal and external events. Collaborated with Communication team, media professionals and vendors to determine program needs for print materials, web design and digital communications. Entrusted to lead product, service and software launches for Digital Asset Management tool, Marketing Toolkit website and Executive Tradeshows Calendar. Created presentations for management and executive approval to ensure alignment with corporate guidelines and branding. Maintained the MySikorsky SharePoint site and provided timely solutions to mitigate issues.     Created story board and produced video for annual IT All Hands meeting. 10/2012 to 01/2014 Relationship Coordinator/Marketing Specialist Company Name － City , State Partnered with vendor to manage the in-house advertising program consisting of print and media collateral pieces. Coordinated pre-show and post-show activities at trade shows. Managed marketing campaigns to generate new business and to support partner and sales teams. Ordered marketing collateral for meetings, trade shows and advisors. Improved, administered and modified marketing programs to increase product awareness. Assisted in preparing internal promotional publications, managed marketing material inventory and supervised distribution of publications to ensure high quality product output. Coordinated marketing materials including brochures, promotional materials and products. Partnered with graphic designers to develop appropriate materials and branding for brochures. Used tracking and reporting systems for sales leads and appointments. 09/2009 to 10/2012 Assistant Head Teller Company Name － City , State Received an internal audit score of 100 %. Performed daily and monthly audits of ATM machines and tellers. Educated customers on a variety of retail products and available credit options. Consistently met or exceeded quarterly sales goals Promoted products and services to customers while maintaining company brand identity\\n\\n·    \\n Implemented programs to achieve and exceed customer and company participation goals \\n\\n  Organized company sponsored events on campus resulting in increased brand awareness\\n\\n·    \\n Coached peers on the proper use of programs to improve work flow efficiency Utilized product knowledge to successfully sell to and refer clients based on individual needs Promoted marketing the grand opening of new branch locations to strengthen company brand affinity\\n\\n·     Organized company sponsored events resulting in increased brand awareness and improved sales\\n\\n·     Coached peers on the proper use of programs to increase work flow efficiency\\n\\n Senior Producer - 2014 SHU Media Exchange Company Name － City , State Planned and executed event focusing on Connecticut's creative corridor, growth of industry and opportunities that come with development. A  panel of industry professionals addressed topics related to media and hosted a question and answer session for approximately 110 attendees. Following the forum, guests were invited to engage in networking and conversation at a post-event reception. \\n\\nEDUCATION 2014 Master of Arts : Corporate Communication &amp; Public Relations Sacred Heart University － City , State 2013 Bachelor of Arts : Relational Communication Western Connecticut State University － City , State \\n\\nSKILLS Adobe Photoshop, ADP, Asset Management, branding, brochures, content, Customer Care, Final Cut Pro, graphics, graphic, HR, Illustrator, InDesign, Innovation, inventory, Lotus Notes, marketing, marketing materials, marketing material, materials, Microsoft Office, SharePoint, newsletter, presentations, process improvement, Project Management, promotional materials, publications, Quality, real-time, Recruitment, reporting, RFP, sales, stories, Employee Development, video, web design, website, articles</td>\n",
       "    </tr>\n",
       "    <tr>\n",
       "      <th>2</th>\n",
       "      <td>33176873</td>\n",
       "      <td>HR</td>\n",
       "      <td>HR DIRECTOR \\n\\nSUMMARY Over 20 years \\n\\nEXPERIENCE in recruiting, 15 plus years in Human Resources Executive Management, 5 years of HRIS development and maintenance 4 years working in a Healthcare Enviroment \\n\\nSKILLS Recruiting FMLA/EEO/FLSA  HRIS Development Benefit Administration Policy Development Web Page Development  Accomplishments Kansas Health Institute -Health Outcomes for the State of Kansas -1999 \\nMemberships and Accolades: Project Management Institute Member, SHRM, Chamber of Commerce, 1999 Friends University President's Honor Roll, 1997 Friends University Dean's Honor Roll, Student Liaison for Friends University Topeka (member of Mother-To-Mother, member of the Topeka \\nAdvertising Federation, several production pieces created nominated for ADDY \\n\\nAWARDS, received recognition for outstanding customer service assistance by the State of Kansas Travel and Tourism Department., ASHHRA, KAHHR, ACM. Additional Information: \\nLeading Change -I have been instrumental in development and implementation of the Adjutant General's Retention Research project, involving survey development and analyzing the results of the surveys to present to the Adjutant General to help retain the qualified talent of the Departments. I have been tasked with working with the Federal Security Manager for the Joint Forces Headquarters in developing policies, procedures and processes to ensure that all current and new State Employees have the appropriate security clearances for the position held per the Federal Government Requirements. While at LMIS, I lead the Job Vacancy Project and was able to produce results in less time and man hours than in years before with staff that were inexperienced in the JVC process and procedures. I have been responsible to develop, plan and implement database programs, for the last three positions I have held. These were designed to cultivate, involve, renew contact, and promote active and potential employees. These databases were used for reporting FTE usage, budget management and turnover reports. While working in the healthcare field, I took the initiative in creating a local website that was used to receive and respond to requests for information and assistance in marketing and promoting the healthcare facility along with recruitment of potential employees. As Human Resource Coordinator in the healthcare field, I managed the front office personnel, reduced contract labor costs for nursing staff and implemented a unique pay structure to increase PRN staff utilization. I continually think \"Outside-the-box\" to create and develop strategies to resolve issues faced in my work environment. In my current position, I have met and exceeded all hiring goals for the firm. This resulted in our client increasing the business transferred to our location. \\n\\nEXPERIENCE HR Director 09/2016 to Current Company Name City , State Developed New Website for Agency, payroll processing changes, and implementation of new HRIS System. Oversaw the employment process taking the lead role in clinician, physician and management team recruitment initiatives.\\n\\n Developed, maintain and interpret HR policy. Authored the Employee Handbook.\\n\\nProvided coaching and support to management and supervisors on performance management and other related issues. \\n\\n Maintained in-depth knowledge of legal requirements related to day-to-day management of employees,\\nreducing legal risks and ensuring regulatory compliance. Evaluated and recommend changes to the employee benefits plan. Oversaw day to day administration of benefits.  HR Director 04/2009 to 09/2016 Company Name City , State Develped Supervisory \\n\\nEDUCATION, SHRO Website, SHRO HRIS System and Automation of payroll processing. Established and directed a comprehensive statewide human resource program for both classified and unclassified State employees/positions in the Adjutant General's Department. Resolved non-routine HR related issues associated as they arose; reviewed documents and approved all hires and promotions; reviews and approved, modified and/or disapproved wage/salary requests to hire individuals above the pre-established minimum classified or unclassified pay rate,  Reviewed any significant changes to position descriptions and determined if reclassification should be pursued; reviewed position descriptions for new positions and determined the appropriate wage range based on comparable classified position (if they exist), Consulted with the TAG and both military and state manager/ supervisors in order to provide technical and common sense guidance on properly addressing sensitive or complex employee and organizational issues; aided them in achieving their ever changing program goals and provided innovative ideas for staffing; Served as the administration's management representative in labor negotiations with the local KAPE unit at the 190th Fire Department. HR Manager/Sr. Recruiter 10/2003 to 06/2006 Company Name City , State Created an HRIS tracking system used for recruitment. Responsible for Ramp up and hiring of all customer service agents, and other positions as needed. Placement and development of all advertising \\nMet and exceeded all hiring goals. Responsible for Hiring Senior Management to cover such duties as: Team Managers, Payroll, Quality Control. Responsible for recruitment of 950 new employees, meeting and exceeded goals set. Coordinated and facilitated manpower planning, recruitment and retention, career development and training, staff relations, compensation and benefits, compliance with local, state and federal statutory regulations, public programs, and regulatory audit procedures. Served as a resource person to administration, mid-level management and staff regarding HR related. Human Resources Coordinator 03/1996 to 02/2000 Company Name City , State Developed HRIS database from ground up for employee records and monitoring. Instrumental in reducing the use of Agency Staffing needs for hospital. Coordinated and facilitates manpower planning, recruitment and retention, career development and training, staff relations, compensation and benefits, compliance with local, state and federal statutory regulations, public programs, and regulatory audit procedures. Served as the HR resource source for administration, mid-level management and staff. Coordinated hiring procedures, appraisals, pay increases, promotions, transfers, terminations, job postings, and all corrective actions; One Person Office, responsible for all OSHA, Work Comp, Benefits, payroll, etc. \\n\\nEDUCATION and Training Master's Degree : Information Management Systems 05/2005 Friends University City , State , United States 3.5 Credits Earned: 62 Semester hours Information Management Systems Bachelor of Science : Organizational Management 05/2000 Friends University City , State , United States 4.0 Credits Earned: 62 Semester hours Activities and Honors Topeka Chamber of Commerce -Ambassador \\nKansas Hospital Association -Health Care Human Resources Member \\nSHRM -Legislative Liaison \\n\\nSKILLS Desktop Publishing,  Newsletter productions, DATABASE Management, Leadership \\n\\nTraining, OSHA, FMLA, \\n\\nWorkers Compensation. PageMaker, Agency Automation, back-up, Benefits, Budget management, Corel Suite, Harvard Graphics, Access, Excel, Microsoft Publisher, MS Word,  Quark Express, Quattro Pro, Strategic Planning,  Web page development, WordPerfect</td>\n",
       "    </tr>\n",
       "  </tbody>\n",
       "</table>\n",
       "</div>"
      ]
     },
     "execution_count": 12,
     "metadata": {},
     "output_type": "execute_result"
    }
   ],
   "execution_count": 12
  },
  {
   "metadata": {
    "ExecuteTime": {
     "end_time": "2025-10-14T15:35:54.588257Z",
     "start_time": "2025-10-14T15:35:54.508538Z"
    }
   },
   "cell_type": "code",
   "source": "df_hr.to_csv(\"hr_resumes.csv\", index=False)",
   "id": "bee5bb26c622bb02",
   "outputs": [],
   "execution_count": 13
  },
  {
   "metadata": {
    "ExecuteTime": {
     "end_time": "2025-10-14T15:35:57.288369Z",
     "start_time": "2025-10-14T15:35:57.276305Z"
    }
   },
   "cell_type": "code",
   "source": [
    "# Load Ontology\n",
    "import json\n",
    "\n",
    "with open(\"Ontology.json\", \"r\", encoding=\"utf-8\") as f:\n",
    "    ontology = json.load(f)\n",
    "\n",
    "# Check top-level structure\n",
    "print(\"Ontology ID:\", ontology.get(\"ontology_id\"))\n",
    "print(\"Version:\", ontology.get(\"version\"))\n",
    "print(\"Entities:\", list(ontology[\"entities\"].keys()))\n"
   ],
   "id": "5c9b4ae5fe121bd2",
   "outputs": [
    {
     "name": "stdout",
     "output_type": "stream",
     "text": [
      "Ontology ID: cv_ontology_basic\n",
      "Version: 1.0.0\n",
      "Entities: ['education', 'work_experience', 'skills', 'language', 'certifications', 'projects', 'awards', 'voluntary experience', 'publications', 'hobbies']\n"
     ]
    }
   ],
   "execution_count": 14
  },
  {
   "metadata": {
    "ExecuteTime": {
     "end_time": "2025-10-14T15:35:59.345242Z",
     "start_time": "2025-10-14T15:35:59.333039Z"
    }
   },
   "cell_type": "code",
   "source": [
    "# view\n",
    "print(json.dumps(ontology, indent=2))"
   ],
   "id": "64f1d5ca96d6bb1c",
   "outputs": [
    {
     "name": "stdout",
     "output_type": "stream",
     "text": [
      "{\n",
      "  \"ontology_id\": \"cv_ontology_basic\",\n",
      "  \"version\": \"1.0.0\",\n",
      "  \"description\": \"Ontology for CV extraction (knowledge recall)\",\n",
      "  \"entities\": {\n",
      "    \"education\": {\n",
      "      \"description\": \"Formal degree or training\",\n",
      "      \"attributes\": {\n",
      "        \"degree_level\": {\n",
      "          \"type\": \"enum\",\n",
      "          \"values\": [\n",
      "            \"bachelor\",\n",
      "            \"master\",\n",
      "            \"phd\",\n",
      "            \"diploma\",\n",
      "            \"certificate\",\n",
      "            \"other\"\n",
      "          ]\n",
      "        },\n",
      "        \"degree_title\": {\n",
      "          \"type\": \"string\"\n",
      "        },\n",
      "        \"field\": {\n",
      "          \"type\": \"string\"\n",
      "        },\n",
      "        \"year\": {\n",
      "          \"type\": \"integer\",\n",
      "          \"optional\": true\n",
      "        }\n",
      "      },\n",
      "      \"evidence_required\": true\n",
      "    },\n",
      "    \"work_experience\": {\n",
      "      \"description\": \"work experience\",\n",
      "      \"attributes\": {\n",
      "        \"job_title\": {\n",
      "          \"type\": \"string\"\n",
      "        },\n",
      "        \"company\": {\n",
      "          \"type\": \"string\",\n",
      "          \"optional\": true\n",
      "        },\n",
      "        \"start_date\": {\n",
      "          \"type\": \"string\",\n",
      "          \"format\": \"date\",\n",
      "          \"optional\": true\n",
      "        },\n",
      "        \"end_date\": {\n",
      "          \"type\": \"string\",\n",
      "          \"format\": \"date\",\n",
      "          \"optional\": true\n",
      "        },\n",
      "        \"responsibilities\": {\n",
      "          \"type\": \"string\",\n",
      "          \"optional\": true\n",
      "        }\n",
      "      },\n",
      "      \"evidence_required\": true\n",
      "    },\n",
      "    \"skills\": {\n",
      "      \"description\": \"technical and soft skills\",\n",
      "      \"attributes\": {\n",
      "        \"name\": {\n",
      "          \"type\": \"string\",\n",
      "          \"normalize\": \"lower\"\n",
      "        },\n",
      "        \"years_experience\": {\n",
      "          \"type\": \"number\",\n",
      "          \"min\": 0\n",
      "        }\n",
      "      },\n",
      "      \"evidence_required\": true\n",
      "    },\n",
      "    \"language\": {\n",
      "      \"description\": \"languages known and proficiency levels\",\n",
      "      \"attributes\": {\n",
      "        \"name\": {\n",
      "          \"type\": \"string\"\n",
      "        },\n",
      "        \"level\": {\n",
      "          \"type\": \"enum\",\n",
      "          \"values\": [\n",
      "            \"A1\",\n",
      "            \"A2\",\n",
      "            \"B1\",\n",
      "            \"B2\",\n",
      "            \"C1\",\n",
      "            \"C2\"\n",
      "          ]\n",
      "        }\n",
      "      },\n",
      "      \"evidence_required\": false\n",
      "    },\n",
      "    \"certifications\": {\n",
      "      \"description\": \"Professional certifications\",\n",
      "      \"attributes\": {\n",
      "        \"name\": {\n",
      "          \"type\": \"string\"\n",
      "        },\n",
      "        \"issuing_organization\": {\n",
      "          \"type\": \"string\",\n",
      "          \"optional\": true\n",
      "        },\n",
      "        \"date_obtained\": {\n",
      "          \"type\": \"string\",\n",
      "          \"format\": \"date\",\n",
      "          \"optional\": true\n",
      "        },\n",
      "        \"valid_until\": {\n",
      "          \"type\": \"string\",\n",
      "          \"format\": \"date\",\n",
      "          \"optional\": true\n",
      "        }\n",
      "      },\n",
      "      \"evidence_required\": false\n",
      "    },\n",
      "    \"projects\": {\n",
      "      \"description\": \"Significant projects undertaken\",\n",
      "      \"attributes\": {\n",
      "        \"name\": {\n",
      "          \"type\": \"string\"\n",
      "        },\n",
      "        \"description\": {\n",
      "          \"type\": \"string\",\n",
      "          \"optional\": true\n",
      "        },\n",
      "        \"technologies_used\": {\n",
      "          \"type\": \"string\",\n",
      "          \"optional\": true\n",
      "        },\n",
      "        \"role\": {\n",
      "          \"type\": \"string\",\n",
      "          \"optional\": true\n",
      "        },\n",
      "        \"duration\": {\n",
      "          \"type\": \"string\",\n",
      "          \"optional\": true\n",
      "        }\n",
      "      },\n",
      "      \"evidence_required\": false\n",
      "    },\n",
      "    \"awards\": {\n",
      "      \"description\": \"Awards and recognitions received\",\n",
      "      \"attributes\": {\n",
      "        \"name\": {\n",
      "          \"type\": \"string\"\n",
      "        },\n",
      "        \"issuing_organization\": {\n",
      "          \"type\": \"string\",\n",
      "          \"optional\": true\n",
      "        },\n",
      "        \"date_received\": {\n",
      "          \"type\": \"string\",\n",
      "          \"format\": \"date\",\n",
      "          \"optional\": true\n",
      "        },\n",
      "        \"description\": {\n",
      "          \"type\": \"string\",\n",
      "          \"optional\": true\n",
      "        }\n",
      "      },\n",
      "      \"evidence_required\": false\n",
      "    },\n",
      "    \"voluntary experience\": {\n",
      "      \"description\": \"Voluntary or extracurricular activities\",\n",
      "      \"attributes\": {\n",
      "        \"role\": {\n",
      "          \"type\": \"string\"\n",
      "        },\n",
      "        \"organization\": {\n",
      "          \"type\": \"string\",\n",
      "          \"optional\": true\n",
      "        },\n",
      "        \"start_date\": {\n",
      "          \"type\": \"string\",\n",
      "          \"format\": \"date\",\n",
      "          \"optional\": true\n",
      "        },\n",
      "        \"end_date\": {\n",
      "          \"type\": \"string\",\n",
      "          \"format\": \"date\",\n",
      "          \"optional\": true\n",
      "        },\n",
      "        \"description\": {\n",
      "          \"type\": \"string\",\n",
      "          \"optional\": true\n",
      "        }\n",
      "      },\n",
      "      \"evidence_required\": false\n",
      "    },\n",
      "    \"publications\": {\n",
      "      \"description\": \"Published works\",\n",
      "      \"attributes\": {\n",
      "        \"title\": {\n",
      "          \"type\": \"string\"\n",
      "        },\n",
      "        \"publication_venue\": {\n",
      "          \"type\": \"string\",\n",
      "          \"optional\": true\n",
      "        },\n",
      "        \"date_published\": {\n",
      "          \"type\": \"string\",\n",
      "          \"format\": \"date\",\n",
      "          \"optional\": true\n",
      "        },\n",
      "        \"url\": {\n",
      "          \"type\": \"string\",\n",
      "          \"format\": \"uri\",\n",
      "          \"optional\": true\n",
      "        }\n",
      "      },\n",
      "      \"evidence_required\": false\n",
      "    },\n",
      "    \"hobbies\": {\n",
      "      \"description\": \"Hobbies and interests\",\n",
      "      \"attributes\": {\n",
      "        \"name\": {\n",
      "          \"type\": \"string\"\n",
      "        },\n",
      "        \"description\": {\n",
      "          \"type\": \"string\",\n",
      "          \"optional\": true\n",
      "        }\n",
      "      },\n",
      "      \"evidence_required\": false\n",
      "    }\n",
      "  }\n",
      "}\n"
     ]
    }
   ],
   "execution_count": 15
  },
  {
   "metadata": {
    "ExecuteTime": {
     "end_time": "2025-10-14T15:36:05.230657Z",
     "start_time": "2025-10-14T15:36:05.180952Z"
    }
   },
   "cell_type": "code",
   "source": [
    "import os\n",
    "\n",
    "# Create folder for text outputs\n",
    "os.makedirs(\"resume_texts\", exist_ok=True)\n",
    "\n",
    "# Randomly sample 20 HR resumes\n",
    "sample_df = df_hr.sample(n=20, random_state=42)\n",
    "\n",
    "# Save each resume as a readable text file\n",
    "for _, row in sample_df.iterrows():\n",
    "    resume_id = row[\"ID\"]\n",
    "    category = row[\"Category\"]\n",
    "    text = row[\"Resume_clean\"]\n",
    "    \n",
    "    # Add metadata header\n",
    "    formatted_text = (\n",
    "        f\"ID: {resume_id}\\n\"\n",
    "        f\"Category: {category}\\n\"\n",
    "        f\"{'='*60}\\n\\n\"\n",
    "        f\"{text}\"\n",
    "    )\n",
    "    \n",
    "    file_path = f\"resume_texts/resume_{resume_id}.txt\"\n",
    "    with open(file_path, \"w\", encoding=\"utf-8\") as f:\n",
    "        f.write(formatted_text)\n"
   ],
   "id": "6de5ef3602ce7905",
   "outputs": [],
   "execution_count": 16
  },
  {
   "metadata": {
    "ExecuteTime": {
     "end_time": "2025-10-14T15:36:16.035120Z",
     "start_time": "2025-10-14T15:36:15.963419Z"
    }
   },
   "cell_type": "code",
   "source": [
    "\n",
    "# Folder for annotations\n",
    "os.makedirs(\"annotations_manual\", exist_ok=True)\n",
    "\n",
    "# Function to build annotation template\n",
    "def make_annotation_json(resume_id, category, text, ontology):\n",
    "    def build_entity_template(entity_def):\n",
    "        attrs = {}\n",
    "        for attr, details in entity_def[\"attributes\"].items():\n",
    "            attrs[attr] = \"\"  # initialize empty for manual or auto fill\n",
    "        return attrs\n",
    "\n",
    "    return {\n",
    "        \"id\": str(resume_id),\n",
    "        \"category\": category,\n",
    "        \"resume_text\": text.strip(),\n",
    "        **{entity: build_entity_template(defn) for entity, defn in ontology[\"entities\"].items()},\n",
    "        \"role_fit\": \"\",\n",
    "        \"reasoning\": \"\"\n",
    "    }\n",
    "\n",
    "\n",
    "# Create and save a JSON file per sampled resume\n",
    "for _, row in sample_df.iterrows():\n",
    "    resume_id = row[\"ID\"]\n",
    "    category = row[\"Category\"]\n",
    "    text = row[\"Resume_clean\"]\n",
    "\n",
    "    # Build annotation template\n",
    "    annotation = make_annotation_json(resume_id, category, text, ontology)\n",
    "    \n",
    "    # Save as JSON\n",
    "    json_path = f\"annotations_manual/annotated_{resume_id}.json\"\n",
    "    with open(json_path, \"w\", encoding=\"utf-8\") as f:\n",
    "        json.dump(annotation, f, indent=2, ensure_ascii=False)"
   ],
   "id": "21bc7508e1379b67",
   "outputs": [],
   "execution_count": 17
  },
  {
   "metadata": {
    "ExecuteTime": {
     "end_time": "2025-10-14T23:13:43.502410Z",
     "start_time": "2025-10-14T23:13:43.483916Z"
    }
   },
   "cell_type": "code",
   "source": [
    "# add two lines to ontology schema\n",
    "\n",
    "import json\n",
    "\n",
    "ontology_new = {\n",
    "  \"ontology_id\": \"cv_ontology_new\",\n",
    "  \"version\": \"1.0.0\",\n",
    "  \"description\": \"Simplified schema for HR resume extraction and reasoning evaluation\",\n",
    "  \"schema\": {\n",
    "    \"id\": \"\",\n",
    "    \"category\": \"HR\",\n",
    "    \"resume_text\": \"\",\n",
    "    \"education\": {\n",
    "      \"degree_level\": \"\",\n",
    "      \"degree_title\": \"\",\n",
    "      \"field\": \"\",\n",
    "      \"year\": \"\",\n",
    "      \"institution\": \"\"\n",
    "    },\n",
    "    \"work_experience\": {\n",
    "      \"job_title\": \"\",\n",
    "      \"company\": \"\",\n",
    "      \"start_date\": \"\",\n",
    "      \"end_date\": \"\",\n",
    "      \"responsibilities\": \"\"\n",
    "    },\n",
    "    \"skills\": {\n",
    "      \"name\": \"\",\n",
    "      \"years_experience\": \"\"\n",
    "    },\n",
    "    \"language\": {\n",
    "      \"name\": \"\",\n",
    "      \"level\": \"\"\n",
    "    },\n",
    "    \"certifications\": {\n",
    "      \"name\": \"\",\n",
    "      \"issuing_organization\": \"\",\n",
    "      \"date_obtained\": \"\",\n",
    "      \"valid_until\": \"\"\n",
    "    },\n",
    "    \"projects\": {\n",
    "      \"name\": \"\",\n",
    "      \"description\": \"\",\n",
    "      \"technologies_used\": \"\",\n",
    "      \"role\": \"\",\n",
    "      \"duration\": \"\"\n",
    "    },\n",
    "    \"awards\": {\n",
    "      \"name\": \"\",\n",
    "      \"issuing_organization\": \"\",\n",
    "      \"date_received\": \"\",\n",
    "      \"description\": \"\"\n",
    "    },\n",
    "    \"voluntary_experience\": {\n",
    "      \"role\": \"\",\n",
    "      \"organization\": \"\",\n",
    "      \"start_date\": \"\",\n",
    "      \"end_date\": \"\",\n",
    "      \"description\": \"\"\n",
    "    },\n",
    "    \"publications\": {\n",
    "      \"title\": \"\",\n",
    "      \"publication_venue\": \"\",\n",
    "      \"date_published\": \"\",\n",
    "      \"url\": \"\"\n",
    "    },\n",
    "    \"hobbies\": {\n",
    "      \"name\": \"\",\n",
    "      \"description\": \"\"\n",
    "    },\n",
    "    \"role_fit\": \"\",\n",
    "    \"reasoning\": \"\"\n",
    "  }\n",
    "}\n",
    "\n",
    "# Save to file\n",
    "with open(\"ontology_new.json\", \"w\", encoding=\"utf-8\") as f:\n",
    "    json.dump(ontology_new, f, indent=2, ensure_ascii=False)\n",
    "\n",
    "\n"
   ],
   "id": "304146c351c43be7",
   "outputs": [],
   "execution_count": 51
  },
  {
   "metadata": {},
   "cell_type": "code",
   "source": [
    "# annotate manually > gold standards \n",
    "# Prompt for llm 1 (test llm)\n",
    "\"\"\" You are an HR specialist and information extraction expert.\n",
    "\n",
    "Extract key information from the following resume using the schema below.\n",
    "Use only information explicitly stated (no assumptions). \n",
    "If information is missing, leave it as an empty string. \n",
    "Return valid JSON only — no explanations or extra text.\n",
    "\n",
    "Schema:\n",
    "{\n",
    "  \"id\": \"\",\n",
    "  \"category\": \"HR\",\n",
    "  \"resume_text\": \"\",\n",
    "  \"education\": {\n",
    "    \"degree_level\": \"\",\n",
    "    \"degree_title\": \"\",\n",
    "    \"field\": \"\",\n",
    "    \"year\": \"\",\n",
    "    \"institution\": \"\"\n",
    "  },\n",
    "  \"work_experience\": {\n",
    "    \"job_title\": \"\",\n",
    "    \"company\": \"\",\n",
    "    \"start_date\": \"\",\n",
    "    \"end_date\": \"\",\n",
    "    \"responsibilities\": \"\"\n",
    "  },\n",
    "  \"skills\": {\n",
    "    \"name\": \"\",\n",
    "    \"years_experience\": \"\"\n",
    "  },\n",
    "  \"language\": {\n",
    "    \"name\": \"\",\n",
    "    \"level\": \"\"\n",
    "  },\n",
    "  \"certifications\": {\n",
    "    \"name\": \"\",\n",
    "    \"issuing_organization\": \"\",\n",
    "    \"date_obtained\": \"\",\n",
    "    \"valid_until\": \"\"\n",
    "  },\n",
    "  \"projects\": {\n",
    "    \"name\": \"\",\n",
    "    \"description\": \"\",\n",
    "    \"technologies_used\": \"\",\n",
    "    \"role\": \"\",\n",
    "    \"duration\": \"\"\n",
    "  },\n",
    "  \"awards\": {\n",
    "    \"name\": \"\",\n",
    "    \"issuing_organization\": \"\",\n",
    "    \"date_received\": \"\",\n",
    "    \"description\": \"\"\n",
    "  },\n",
    "  \"voluntary_experience\": {\n",
    "    \"role\": \"\",\n",
    "    \"organization\": \"\",\n",
    "    \"start_date\": \"\",\n",
    "    \"end_date\": \"\",\n",
    "    \"description\": \"\"\n",
    "  },\n",
    "  \"publications\": {\n",
    "    \"title\": \"\",\n",
    "    \"publication_venue\": \"\",\n",
    "    \"date_published\": \"\",\n",
    "    \"url\": \"\"\n",
    "  },\n",
    "  \"hobbies\": {\n",
    "    \"name\": \"\",\n",
    "    \"description\": \"\"\n",
    "  },\n",
    "  \"role_fit\": \"\",\n",
    "  \"reasoning\": \"\"\n",
    "}\n",
    "\n",
    "role_fit must be one of: \"strong\", \"moderate\", or \"weak\".\n",
    "reasoning: 2–3 sentences explaining your decision based only on explicit resume evidence.\n",
    "\n",
    "Resume:\n",
    "{{resume_text}}\n",
    " \"\"\"\n",
    "\n"
   ],
   "id": "936e2e78e71a0b3f",
   "outputs": [],
   "execution_count": null
  },
  {
   "metadata": {
    "ExecuteTime": {
     "end_time": "2025-10-14T23:23:31.130392Z",
     "start_time": "2025-10-14T23:23:31.064697Z"
    }
   },
   "cell_type": "code",
   "source": [
    "# prompt using ollama _ test for 1 resume\n",
    "# \n",
    "# import subprocess\n",
    "# \n",
    "# \n",
    "# # Load resume\n",
    "# with open(\"resume_texts/resume_11480899.txt\", \"r\", encoding=\"utf-8\") as f:\n",
    "#     resume_text = f.read()\n",
    "# \n",
    "# #  Load ontology \n",
    "# with open(\"ontology_new.json\", \"r\", encoding=\"utf-8\") as f:\n",
    "#     ontology = json.load(f)\n",
    "# \n",
    "# #  Prompt \n",
    "# prompt = f\"\"\"\n",
    "# You are an HR specialist and information extraction expert.\n",
    "# \n",
    "# Your task:\n",
    "# Given a candidate’s resume, extract all relevant information according to the provided ontology\n",
    "# and evaluate their suitability for HR-related roles.\n",
    "# \n",
    "# Follow these rules strictly:\n",
    "# - Use only information explicitly written in the resume (no assumptions or inferences).\n",
    "# - Keep responses factual and concise.\n",
    "# - If information is missing, leave the field empty.\n",
    "# - Output must be *valid JSON only*, matching the structure and keys in the ontology below.\n",
    "# - \"role_fit\" must be one of: \"strong\", \"moderate\", or \"weak\".\n",
    "# - \"reasoning\" must be 2–3 sentences explaining your decision based only on explicit evidence from the resume.\n",
    "# \n",
    "# Ontology schema to follow:\n",
    "# {json.dumps(ontology['schema'], indent=2)}\n",
    "# \n",
    "# Resume text:\n",
    "# {resume_text}\n",
    "# \"\"\"\n",
    "# \n",
    "# # Run Ollama model \n",
    "# ollama_path = r\"C:\\Users\\semra\\AppData\\Local\\Programs\\Ollama\\ollama.exe\"\n",
    "# \n",
    "# result = subprocess.run(\n",
    "#     [ollama_path, \"run\", \"llama3.2:3b\"],\n",
    "#     input=prompt.encode(\"utf-8\"),\n",
    "#     capture_output=True\n",
    "# )\n",
    "# \n",
    "# #  Get model output \n",
    "# model_output = result.stdout.decode(\"utf-8\").strip()\n",
    "# \n",
    "# # Save to file \n",
    "# with open(\"model_output_11480899.json\", \"w\", encoding=\"utf-8\") as f:\n",
    "#     f.write(model_output)\n",
    "# \n",
    "# \n"
   ],
   "id": "47c35851695cfda6",
   "outputs": [],
   "execution_count": 57
  },
  {
   "metadata": {
    "jupyter": {
     "is_executing": true
    },
    "ExecuteTime": {
     "end_time": "2025-10-14T23:45:34.707914600Z",
     "start_time": "2025-10-14T23:39:22.278794Z"
    }
   },
   "cell_type": "code",
   "source": [
    "## prompt using ollama _ test for 1 resume\n",
    "import requests\n",
    "import json\n",
    "\n",
    "# Load ontology and resume text\n",
    "with open(\"ontology_new.json\", \"r\", encoding=\"utf-8\") as f:\n",
    "    ontology = json.load(f)\n",
    "\n",
    "with open(\"resume_texts/resume_11480899.txt\", \"r\", encoding=\"utf-8\") as f:\n",
    "    resume_text = f.read()\n",
    "\n",
    "# prompt\n",
    "prompt = f\"\"\"\n",
    "You are an HR specialist and information extraction expert.\n",
    "\n",
    "Your task:\n",
    "Given a candidate’s resume, extract key information according to the following ontology and then provide reasoning about suitability for HR roles.\n",
    "\n",
    "Follow these rules:\n",
    "- Use only what is explicitly written in the resume (no assumptions).\n",
    "- Keep responses factual and concise.\n",
    "- If information is missing, leave the field empty.\n",
    "- Output valid JSON only.\n",
    "- role_fit must be one of: \"strong\", \"moderate\", or \"weak\".\n",
    "- reasoning: 2–3 sentences explaining your decision based only on explicit resume evidence.\n",
    "\n",
    "Ontology schema to follow:\n",
    "{json.dumps(ontology, indent=2)}\n",
    "\n",
    "Resume text:\n",
    "{resume_text}\n",
    "\"\"\"\n",
    "\n",
    "# Call Ollama API \n",
    "url = \"http://127.0.0.1:11501/api/generate\"\n",
    "\n",
    "payload = {\n",
    "    \"model\": \"llama3.2:3b\",  \n",
    "    \"prompt\": prompt,\n",
    "}\n",
    "\n",
    "response = requests.post(url, json=payload, stream=True)\n",
    "\n",
    "output = \"\"\n",
    "for line in response.iter_lines():\n",
    "    if line:\n",
    "        data = json.loads(line.decode(\"utf-8\"))\n",
    "        if \"response\" in data:\n",
    "            output += data[\"response\"]\n",
    "\n",
    "# Save the model output\n",
    "with open(\"model_output_11480899.json\", \"w\", encoding=\"utf-8\") as f:\n",
    "    f.write(output.strip())\n",
    "\n",
    "\n"
   ],
   "id": "49c06294acd576cf",
   "outputs": [],
   "execution_count": null
  },
  {
   "metadata": {
    "ExecuteTime": {
     "end_time": "2025-10-14T21:53:28.716605Z",
     "start_time": "2025-10-14T21:53:28.676554Z"
    }
   },
   "cell_type": "code",
   "outputs": [],
   "execution_count": 34,
   "source": [
    "# Evaluation using deepval > extraction accuracy (are fields filled correctly) and reasoning quality (logical and faithfulness to gold standard?) and maybe relevance?\n",
    "\n",
    "from deepeval import evaluate\n",
    "from deepeval.metrics import JSONMatchMetric, FaithfulnessMetric\n",
    "import json\n",
    "\n",
    "# Load gold (ground truth) and model outputs \n",
    "with open(\"annotated_11480899.json\", \"r\", encoding=\"utf-8\") as f:\n",
    "    gold = json.load(f)\n",
    "\n",
    "with open(\"model_output_11480899.json\", \"r\", encoding=\"utf-8\") as f:\n",
    "    pred = json.load(f)\n",
    "\n",
    "# Define metrics \n",
    "json_match = JSONMatchMetric(\n",
    "    expected_json=gold,\n",
    "    predicted_json=pred,\n",
    "    fields_to_ignore=[\"reasoning\"],  # reasoning is handled separately\n",
    "    fuzzy_match=True,                # allows partial text match (e.g., capitalization differences)\n",
    ")\n",
    "\n",
    "faithfulness = FaithfulnessMetric(\n",
    "    reference_text=gold[\"resume_text\"],\n",
    "    prediction_text=pred.get(\"reasoning\", \"\"),\n",
    ")\n",
    "\n",
    "# Run evaluation \n",
    "results = evaluate([json_match, faithfulness])\n",
    "\n",
    "print(\"DeepEval Results\")\n",
    "for metric, score in results.items():\n",
    "    print(f\"{metric}: {score:.3f}\")\n",
    "\n",
    "\n"
   ],
   "id": "22f680d928d8ff77"
  }
 ],
 "metadata": {
  "kernelspec": {
   "display_name": "Python 3",
   "language": "python",
   "name": "python3"
  },
  "language_info": {
   "codemirror_mode": {
    "name": "ipython",
    "version": 2
   },
   "file_extension": ".py",
   "mimetype": "text/x-python",
   "name": "python",
   "nbconvert_exporter": "python",
   "pygments_lexer": "ipython2",
   "version": "2.7.6"
  }
 },
 "nbformat": 4,
 "nbformat_minor": 5
}

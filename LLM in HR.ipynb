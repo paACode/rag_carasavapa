{
 "cells": [
  {
   "metadata": {},
   "cell_type": "markdown",
   "source": [
    "## Load Resume Dataset from Kaggle\n",
    "https://www.kaggle.com/datasets/snehaanbhawal/resume-dataset/data"
   ],
   "id": "d37fac742a869463"
  },
  {
   "metadata": {
    "ExecuteTime": {
     "end_time": "2025-10-14T06:42:24.075507Z",
     "start_time": "2025-10-14T06:42:22.121226Z"
    }
   },
   "cell_type": "code",
   "source": [
    "# load data\n",
    "import pandas as pd\n",
    "df = pd.read_csv(\"Resume.csv\")\n",
    "print(df.head())"
   ],
   "id": "15c20fe2757bd589",
   "outputs": [
    {
     "name": "stdout",
     "output_type": "stream",
     "text": [
      "         ID                                         Resume_str  \\\n",
      "0  16852973           HR ADMINISTRATOR/MARKETING ASSOCIATE\\...   \n",
      "1  22323967           HR SPECIALIST, US HR OPERATIONS      ...   \n",
      "2  33176873           HR DIRECTOR       Summary      Over 2...   \n",
      "3  27018550           HR SPECIALIST       Summary    Dedica...   \n",
      "4  17812897           HR MANAGER         Skill Highlights  ...   \n",
      "\n",
      "                                         Resume_html Category  \n",
      "0  <div class=\"fontsize fontface vmargins hmargin...       HR  \n",
      "1  <div class=\"fontsize fontface vmargins hmargin...       HR  \n",
      "2  <div class=\"fontsize fontface vmargins hmargin...       HR  \n",
      "3  <div class=\"fontsize fontface vmargins hmargin...       HR  \n",
      "4  <div class=\"fontsize fontface vmargins hmargin...       HR  \n"
     ]
    }
   ],
   "execution_count": 2
  },
  {
   "metadata": {},
   "cell_type": "markdown",
   "source": "## Preprocessing ",
   "id": "3c0632c00780bcc1"
  },
  {
   "metadata": {
    "ExecuteTime": {
     "end_time": "2025-10-14T06:45:12.206220Z",
     "start_time": "2025-10-14T06:45:12.179849Z"
    }
   },
   "cell_type": "code",
   "source": "df.shape",
   "id": "c16183bf80894e65",
   "outputs": [
    {
     "data": {
      "text/plain": [
       "(2484, 4)"
      ]
     },
     "execution_count": 3,
     "metadata": {},
     "output_type": "execute_result"
    }
   ],
   "execution_count": 3
  },
  {
   "metadata": {
    "ExecuteTime": {
     "end_time": "2025-10-14T06:45:21.356870Z",
     "start_time": "2025-10-14T06:45:21.324524Z"
    }
   },
   "cell_type": "code",
   "source": "df.info()",
   "id": "3751710541f19261",
   "outputs": [
    {
     "name": "stdout",
     "output_type": "stream",
     "text": [
      "<class 'pandas.core.frame.DataFrame'>\n",
      "RangeIndex: 2484 entries, 0 to 2483\n",
      "Data columns (total 4 columns):\n",
      " #   Column       Non-Null Count  Dtype \n",
      "---  ------       --------------  ----- \n",
      " 0   ID           2484 non-null   int64 \n",
      " 1   Resume_str   2484 non-null   object\n",
      " 2   Resume_html  2484 non-null   object\n",
      " 3   Category     2484 non-null   object\n",
      "dtypes: int64(1), object(3)\n",
      "memory usage: 77.8+ KB\n"
     ]
    }
   ],
   "execution_count": 4
  },
  {
   "metadata": {
    "ExecuteTime": {
     "end_time": "2025-10-14T06:45:58.969843Z",
     "start_time": "2025-10-14T06:45:58.960160Z"
    }
   },
   "cell_type": "code",
   "source": "df['Category'].unique()",
   "id": "31a0c2666fbbdde1",
   "outputs": [
    {
     "data": {
      "text/plain": [
       "array(['HR', 'DESIGNER', 'INFORMATION-TECHNOLOGY', 'TEACHER', 'ADVOCATE',\n",
       "       'BUSINESS-DEVELOPMENT', 'HEALTHCARE', 'FITNESS', 'AGRICULTURE',\n",
       "       'BPO', 'SALES', 'CONSULTANT', 'DIGITAL-MEDIA', 'AUTOMOBILE',\n",
       "       'CHEF', 'FINANCE', 'APPAREL', 'ENGINEERING', 'ACCOUNTANT',\n",
       "       'CONSTRUCTION', 'PUBLIC-RELATIONS', 'BANKING', 'ARTS', 'AVIATION'],\n",
       "      dtype=object)"
      ]
     },
     "execution_count": 5,
     "metadata": {},
     "output_type": "execute_result"
    }
   ],
   "execution_count": 5
  },
  {
   "metadata": {
    "ExecuteTime": {
     "end_time": "2025-10-14T06:46:24.404711Z",
     "start_time": "2025-10-14T06:46:24.391665Z"
    }
   },
   "cell_type": "code",
   "source": "df['Category'].value_counts()",
   "id": "a65ddfdd246857d2",
   "outputs": [
    {
     "data": {
      "text/plain": [
       "Category\n",
       "INFORMATION-TECHNOLOGY    120\n",
       "BUSINESS-DEVELOPMENT      120\n",
       "ADVOCATE                  118\n",
       "CHEF                      118\n",
       "ENGINEERING               118\n",
       "ACCOUNTANT                118\n",
       "FINANCE                   118\n",
       "FITNESS                   117\n",
       "AVIATION                  117\n",
       "SALES                     116\n",
       "BANKING                   115\n",
       "HEALTHCARE                115\n",
       "CONSULTANT                115\n",
       "CONSTRUCTION              112\n",
       "PUBLIC-RELATIONS          111\n",
       "HR                        110\n",
       "DESIGNER                  107\n",
       "ARTS                      103\n",
       "TEACHER                   102\n",
       "APPAREL                    97\n",
       "DIGITAL-MEDIA              96\n",
       "AGRICULTURE                63\n",
       "AUTOMOBILE                 36\n",
       "BPO                        22\n",
       "Name: count, dtype: int64"
      ]
     },
     "execution_count": 6,
     "metadata": {},
     "output_type": "execute_result"
    }
   ],
   "execution_count": 6
  },
  {
   "metadata": {
    "ExecuteTime": {
     "end_time": "2025-10-14T06:53:14.815790Z",
     "start_time": "2025-10-14T06:53:14.781077Z"
    }
   },
   "cell_type": "code",
   "source": [
    "# drop column 'Resume_html'\n",
    "df = df.drop(columns=[\"Resume_html\"])"
   ],
   "id": "8e4a5732c50d479c",
   "outputs": [],
   "execution_count": 7
  },
  {
   "metadata": {
    "ExecuteTime": {
     "end_time": "2025-10-14T06:55:47.101887Z",
     "start_time": "2025-10-14T06:55:47.087499Z"
    }
   },
   "cell_type": "code",
   "source": [
    "# show full column width\n",
    "pd.set_option('display.max_colwidth', None)\n",
    "# show first row\n",
    "df[\"Resume_str\"].iloc[0]"
   ],
   "id": "a0ac694edcb86251",
   "outputs": [
    {
     "data": {
      "text/plain": [
       "\"         HR ADMINISTRATOR/MARKETING ASSOCIATE\\n\\nHR ADMINISTRATOR       Summary     Dedicated Customer Service Manager with 15+ years of experience in Hospitality and Customer Service Management.   Respected builder and leader of customer-focused teams; strives to instill a shared, enthusiastic commitment to customer service.         Highlights         Focused on customer satisfaction  Team management  Marketing savvy  Conflict resolution techniques     Training and development  Skilled multi-tasker  Client relations specialist           Accomplishments      Missouri DOT Supervisor Training Certification  Certified by IHG in Customer Loyalty and Marketing by Segment   Hilton Worldwide General Manager Training Certification  Accomplished Trainer for cross server hospitality systems such as    Hilton OnQ  ,   Micros    Opera PMS   , Fidelio    OPERA    Reservation System (ORS) ,   Holidex    Completed courses and seminars in customer service, sales strategies, inventory control, loss prevention, safety, time management, leadership and performance assessment.        Experience      HR Administrator/Marketing Associate\\n\\nHR Administrator     Dec 2013   to   Current      Company Name   －   City  ,   State     Helps to develop policies, directs and coordinates activities such as employment, compensation, labor relations, benefits, training, and employee services.  Prepares employee separation notices and related documentation  Keeps records of benefits plans participation such as insurance and pension plan, personnel transactions such as hires, promotions, transfers, performance reviews, and terminations, and employee statistics for government reporting.  Advises management in appropriate resolution of employee relations issues.  Administers benefits programs such as life, health, dental, insurance, pension plans, vacation, sick leave, leave of absence, and employee assistance.     Marketing Associate \\xa0   Designed and created marketing collateral for sales meetings, trade shows and company executives.  Managed the in-house advertising program consisting of print and media collateral pieces.  Assisted in the complete design and launch of the company's website in 2 months.  Created an official company page on Facebook to facilitate interaction with customers.  Analyzed ratings and programming features of competitors to evaluate the effectiveness of marketing strategies.         Advanced Medical Claims Analyst     Mar 2012   to   Dec 2013      Company Name   －   City  ,   State     Reviewed medical bills for the accuracy of the treatments, tests, and hospital stays prior to sanctioning the claims.  Trained to interpret the codes (ICD-9, CPT) and terminology commonly used in medical billing to fully understand the paperwork that is submitted by healthcare providers.  Required to have organizational and analytical skills as well as computer skills, knowledge of medical terminology and procedures, statistics, billing standards, data analysis and laws regarding medical billing.         Assistant General Manager     Jun 2010   to   Dec 2010      Company Name   －   City  ,   State     Performed duties including but not limited to, budgeting and financial management, accounting, human resources, payroll and purchasing.  Established and maintained close working relationships with all departments of the hotel to ensure maximum operation, productivity, morale and guest service.  Handled daily operations and reported directly to the corporate office.  Hired and trained staff on overall objectives and goals with an emphasis on high customer service.  Marketing and Advertising, working on public relations with the media, government and local businesses and Chamber of Commerce.         Executive Support / Marketing Assistant     Jul 2007   to   Jun 2010      Company Name   －   City  ,   State     Provided assistance to various department heads - Executive, Marketing, Customer Service, Human Resources.  Managed front-end operations to ensure friendly and efficient transactions.  Ensured the swift resolution of customer issues to preserve customer loyalty while complying with company policies.  Exemplified the second-to-none customer service delivery in all interactions with customers and potential clients.         Reservation & Front Office Manager     Jun 2004   to   Jul 2007      Company Name   －   City  ,   State          Owner/ Partner     Dec 2001   to   May 2004      Company Name   －   City  ,   State          Price Integrity Coordinator     Aug 1999   to   Dec 2001      Company Name   －   City  ,   State          Education      N/A  ,   Business Administration   1999     Jefferson College   －   City  ,   State       Business Administration  Marketing / Advertising         High School Diploma  ,   College Prep. studies   1998     Sainte Genevieve Senior High   －   City  ,   State       Awarded American Shrubel Leadership Scholarship to Jefferson College         Skills     Accounting, ads, advertising, analytical skills, benefits, billing, budgeting, clients, Customer Service, data analysis, delivery, documentation, employee relations, financial management, government relations, Human Resources, insurance, labor relations, layout, Marketing, marketing collateral, medical billing, medical terminology, office, organizational, payroll, performance reviews, personnel, policies, posters, presentations, public relations, purchasing, reporting, statistics, website.    \""
      ]
     },
     "execution_count": 8,
     "metadata": {},
     "output_type": "execute_result"
    }
   ],
   "execution_count": 8
  },
  {
   "metadata": {
    "ExecuteTime": {
     "end_time": "2025-10-14T07:27:17.598710Z",
     "start_time": "2025-10-14T07:27:17.551981Z"
    }
   },
   "cell_type": "code",
   "source": [
    "import re\n",
    "\n",
    "# Create a boolean column that marks resumes containing HTML tags\n",
    "df[\"has_html\"] = df[\"Resume_str\"].apply(lambda x: bool(re.search(r\"<.*?>\", str(x))))\n",
    "\n",
    "# Count how many resumes have HTML tags\n",
    "print(\"Resumes with HTML tags:\", df[\"has_html\"].sum())\n",
    "print(\"Resumes without HTML tags:\", len(df) - df[\"has_html\"].sum())\n",
    "\n"
   ],
   "id": "f555cf6c9c48613f",
   "outputs": [
    {
     "name": "stdout",
     "output_type": "stream",
     "text": [
      "Resumes with HTML tags: 10\n",
      "Resumes without HTML tags: 2474\n"
     ]
    }
   ],
   "execution_count": 15
  },
  {
   "metadata": {
    "ExecuteTime": {
     "end_time": "2025-10-14T07:27:23.101900Z",
     "start_time": "2025-10-14T07:27:21.592550Z"
    }
   },
   "cell_type": "code",
   "source": [
    "# remove extra spaces, line breaks and html tags and add clean text as a column (Resume_str = Resume_clean : just without the extra)\n",
    "import re\n",
    "\n",
    "def clean_text(text):\n",
    "    text = re.sub(r'<.*?>', ' ', str(text)) \n",
    "    text = re.sub(r'\\s+', ' ', text) \n",
    "    return text.strip()\n",
    "\n",
    "df[\"Resume_clean\"] = df[\"Resume_str\"].apply(clean_text)\n",
    "df[\"Resume_clean\"].head(2)\n"
   ],
   "id": "6f717cd31cc5ea57",
   "outputs": [
    {
     "data": {
      "text/plain": [
       "0                                                                                                                                                      HR ADMINISTRATOR/MARKETING ASSOCIATE HR ADMINISTRATOR Summary Dedicated Customer Service Manager with 15+ years of experience in Hospitality and Customer Service Management. Respected builder and leader of customer-focused teams; strives to instill a shared, enthusiastic commitment to customer service. Highlights Focused on customer satisfaction Team management Marketing savvy Conflict resolution techniques Training and development Skilled multi-tasker Client relations specialist Accomplishments Missouri DOT Supervisor Training Certification Certified by IHG in Customer Loyalty and Marketing by Segment Hilton Worldwide General Manager Training Certification Accomplished Trainer for cross server hospitality systems such as Hilton OnQ , Micros Opera PMS , Fidelio OPERA Reservation System (ORS) , Holidex Completed courses and seminars in customer service, sales strategies, inventory control, loss prevention, safety, time management, leadership and performance assessment. Experience HR Administrator/Marketing Associate HR Administrator Dec 2013 to Current Company Name － City , State Helps to develop policies, directs and coordinates activities such as employment, compensation, labor relations, benefits, training, and employee services. Prepares employee separation notices and related documentation Keeps records of benefits plans participation such as insurance and pension plan, personnel transactions such as hires, promotions, transfers, performance reviews, and terminations, and employee statistics for government reporting. Advises management in appropriate resolution of employee relations issues. Administers benefits programs such as life, health, dental, insurance, pension plans, vacation, sick leave, leave of absence, and employee assistance. Marketing Associate Designed and created marketing collateral for sales meetings, trade shows and company executives. Managed the in-house advertising program consisting of print and media collateral pieces. Assisted in the complete design and launch of the company's website in 2 months. Created an official company page on Facebook to facilitate interaction with customers. Analyzed ratings and programming features of competitors to evaluate the effectiveness of marketing strategies. Advanced Medical Claims Analyst Mar 2012 to Dec 2013 Company Name － City , State Reviewed medical bills for the accuracy of the treatments, tests, and hospital stays prior to sanctioning the claims. Trained to interpret the codes (ICD-9, CPT) and terminology commonly used in medical billing to fully understand the paperwork that is submitted by healthcare providers. Required to have organizational and analytical skills as well as computer skills, knowledge of medical terminology and procedures, statistics, billing standards, data analysis and laws regarding medical billing. Assistant General Manager Jun 2010 to Dec 2010 Company Name － City , State Performed duties including but not limited to, budgeting and financial management, accounting, human resources, payroll and purchasing. Established and maintained close working relationships with all departments of the hotel to ensure maximum operation, productivity, morale and guest service. Handled daily operations and reported directly to the corporate office. Hired and trained staff on overall objectives and goals with an emphasis on high customer service. Marketing and Advertising, working on public relations with the media, government and local businesses and Chamber of Commerce. Executive Support / Marketing Assistant Jul 2007 to Jun 2010 Company Name － City , State Provided assistance to various department heads - Executive, Marketing, Customer Service, Human Resources. Managed front-end operations to ensure friendly and efficient transactions. Ensured the swift resolution of customer issues to preserve customer loyalty while complying with company policies. Exemplified the second-to-none customer service delivery in all interactions with customers and potential clients. Reservation & Front Office Manager Jun 2004 to Jul 2007 Company Name － City , State Owner/ Partner Dec 2001 to May 2004 Company Name － City , State Price Integrity Coordinator Aug 1999 to Dec 2001 Company Name － City , State Education N/A , Business Administration 1999 Jefferson College － City , State Business Administration Marketing / Advertising High School Diploma , College Prep. studies 1998 Sainte Genevieve Senior High － City , State Awarded American Shrubel Leadership Scholarship to Jefferson College Skills Accounting, ads, advertising, analytical skills, benefits, billing, budgeting, clients, Customer Service, data analysis, delivery, documentation, employee relations, financial management, government relations, Human Resources, insurance, labor relations, layout, Marketing, marketing collateral, medical billing, medical terminology, office, organizational, payroll, performance reviews, personnel, policies, posters, presentations, public relations, purchasing, reporting, statistics, website.\n",
       "1    HR SPECIALIST, US HR OPERATIONS Summary Versatile media professional with background in Communications, Marketing, Human Resources and Technology. Experience 09/2015 to Current HR Specialist, US HR Operations Company Name － City , State Managed communication regarding launch of Operations group, policy changes and system outages Designed standard work and job aids to create comprehensive training program for new employees and contractors Audited job postings for old, pending, on-hold and draft positions. Audited union hourly, non-union hourly and salary background checks and drug screens Conducted monthly new hire benefits briefing to new employees across all business units Served as a link between HR Managers and vendors by handling questions and resolving system-related issues Provide real-time process improvement feedback on key metrics and initiatives Successfully re-branded US HR Operations SharePoint site Business Unit project manager for RFI/RFP on Background Check and Drug Screen vendor 01/2014 to 05/2015 IT, Marketing and Communications Co-op Company Name － City , State Posted new articles, changes and updates to corporate SharePoint site including graphics and visual communications. Researched and drafted articles and feature stories to promote company activities and programs. Co-edited and developed content for quarterly published newsletter. Provided communication support for internal and external events. Collaborated with Communication team, media professionals and vendors to determine program needs for print materials, web design and digital communications. Entrusted to lead product, service and software launches for Digital Asset Management tool, Marketing Toolkit website and Executive Tradeshows Calendar. Created presentations for management and executive approval to ensure alignment with corporate guidelines and branding. Maintained the MySikorsky SharePoint site and provided timely solutions to mitigate issues. Created story board and produced video for annual IT All Hands meeting. 10/2012 to 01/2014 Relationship Coordinator/Marketing Specialist Company Name － City , State Partnered with vendor to manage the in-house advertising program consisting of print and media collateral pieces. Coordinated pre-show and post-show activities at trade shows. Managed marketing campaigns to generate new business and to support partner and sales teams. Ordered marketing collateral for meetings, trade shows and advisors. Improved, administered and modified marketing programs to increase product awareness. Assisted in preparing internal promotional publications, managed marketing material inventory and supervised distribution of publications to ensure high quality product output. Coordinated marketing materials including brochures, promotional materials and products. Partnered with graphic designers to develop appropriate materials and branding for brochures. Used tracking and reporting systems for sales leads and appointments. 09/2009 to 10/2012 Assistant Head Teller Company Name － City , State Received an internal audit score of 100 %. Performed daily and monthly audits of ATM machines and tellers. Educated customers on a variety of retail products and available credit options. Consistently met or exceeded quarterly sales goals Promoted products and services to customers while maintaining company brand identity · Implemented programs to achieve and exceed customer and company participation goals Organized company sponsored events on campus resulting in increased brand awareness · Coached peers on the proper use of programs to improve work flow efficiency Utilized product knowledge to successfully sell to and refer clients based on individual needs Promoted marketing the grand opening of new branch locations to strengthen company brand affinity · Organized company sponsored events resulting in increased brand awareness and improved sales · Coached peers on the proper use of programs to increase work flow efficiency Senior Producer - 2014 SHU Media Exchange Company Name － City , State Planned and executed event focusing on Connecticut's creative corridor, growth of industry and opportunities that come with development. A panel of industry professionals addressed topics related to media and hosted a question and answer session for approximately 110 attendees. Following the forum, guests were invited to engage in networking and conversation at a post-event reception. Education 2014 Master of Arts : Corporate Communication & Public Relations Sacred Heart University － City , State 2013 Bachelor of Arts : Relational Communication Western Connecticut State University － City , State Skills Adobe Photoshop, ADP, Asset Management, branding, brochures, content, Customer Care, Final Cut Pro, graphics, graphic, HR, Illustrator, InDesign, Innovation, inventory, Lotus Notes, marketing, marketing materials, marketing material, materials, Microsoft Office, SharePoint, newsletter, presentations, process improvement, Project Management, promotional materials, publications, Quality, real-time, Recruitment, reporting, RFP, sales, stories, Employee Development, video, web design, website, articles\n",
       "Name: Resume_clean, dtype: object"
      ]
     },
     "execution_count": 16,
     "metadata": {},
     "output_type": "execute_result"
    }
   ],
   "execution_count": 16
  },
  {
   "metadata": {
    "ExecuteTime": {
     "end_time": "2025-10-14T07:27:26.611175Z",
     "start_time": "2025-10-14T07:27:26.596687Z"
    }
   },
   "cell_type": "code",
   "source": "df.info()",
   "id": "87f1a8c4f90ea9da",
   "outputs": [
    {
     "name": "stdout",
     "output_type": "stream",
     "text": [
      "<class 'pandas.core.frame.DataFrame'>\n",
      "RangeIndex: 2484 entries, 0 to 2483\n",
      "Data columns (total 5 columns):\n",
      " #   Column        Non-Null Count  Dtype \n",
      "---  ------        --------------  ----- \n",
      " 0   ID            2484 non-null   int64 \n",
      " 1   Resume_str    2484 non-null   object\n",
      " 2   Category      2484 non-null   object\n",
      " 3   Resume_clean  2484 non-null   object\n",
      " 4   has_html      2484 non-null   bool  \n",
      "dtypes: bool(1), int64(1), object(3)\n",
      "memory usage: 80.2+ KB\n"
     ]
    }
   ],
   "execution_count": 17
  },
  {
   "metadata": {
    "ExecuteTime": {
     "end_time": "2025-10-14T07:29:46.485260Z",
     "start_time": "2025-10-14T07:29:46.473641Z"
    }
   },
   "cell_type": "code",
   "source": "df= df.drop(columns=['has_html'])",
   "id": "3978ac09182106f0",
   "outputs": [],
   "execution_count": 18
  },
  {
   "metadata": {},
   "cell_type": "markdown",
   "source": "### Entity Extraction (Use Case: Skill, Experience,Education)",
   "id": "a103d1a75b6a034e"
  },
  {
   "metadata": {
    "ExecuteTime": {
     "end_time": "2025-10-14T07:38:36.028894Z",
     "start_time": "2025-10-14T07:38:35.950070Z"
    }
   },
   "cell_type": "code",
   "source": [
    "# Information Extraction Prompt Generator\n",
    "def create_extraction_prompt(resume_text):\n",
    "    prompt = f\"\"\"\n",
    "You are an experienced HR specialist. Extract the following information from the candidate's resume:\n",
    "\n",
    "- Skills\n",
    "- Experiences (with years if mentioned)\n",
    "- Certifications\n",
    "- Education\n",
    "\n",
    "Resume:\n",
    "{resume_text}\n",
    "\n",
    "Respond ONLY in JSON format like this:\n",
    "{{\n",
    "  \"skills\": [],\n",
    "  \"experiences\": [],\n",
    "  \"certifications\": [],\n",
    "  \"education\": []\n",
    "}}\n",
    "\"\"\"\n",
    "    return prompt.strip()\n",
    "\n",
    "# Prompt Dataset\n",
    "df[\"extraction_prompt\"] = df[\"Resume_clean\"].apply(create_extraction_prompt)\n",
    "\n",
    "# Preview\n",
    "df[[\"Category\", \"extraction_prompt\"]].head(3)\n"
   ],
   "id": "53aa3153d05724ff",
   "outputs": [
    {
     "data": {
      "text/plain": [
       "  Category  \\\n",
       "0       HR   \n",
       "1       HR   \n",
       "2       HR   \n",
       "\n",
       "                                                                                                                                                                                                                                                                                                                                                                                                                                                                                                                                                                                                                                                                                                                                                                                                                                                                                                                                                                                                                                                                                                                                                                                                                                                                                                                                                                                                                                                                                                                                                                                                                                                                                                                                                                                                                                                                                                                                                                                                                                                                                                                                                                                                                                                                                                                                                                                                                                                                                                                                                                                                                                                                                                                                                                                                                                                                                                                                                                                                                                                                                                                                                                                                                                                                                                                                                                                                                                                                                                                                                                                                                                                                                                                                                                                                                                                                                                                                                                                                                                                                                                                                                                                                                                                                                                                                                                                                                                                                                                                                                                                                                                                                                                                                                                                                                                                                                                                                                                                                                                                                                                                                                                                                                                                                                                                                                                                                                                                                                                                                                                                                                                                                                                                                                                                                                                                                                                                                                                                                                                                                                                                                                                                                                                                                                                                                                                                                                                                                                                                                                                                                                                                                                                                                                                                                                                                                                                                                                                                                                                                                                                                                                                                                                                                                                                                                                                                                                                                                                                                                                                                                                                                                                                                                                                                                                                                                                                                                                                      extraction_prompt  \n",
       "0                                                                                                                                                                                                                                                                                                                                                                                                                                                                                                                                                                                                                                                                                                                                                                                                                                                                                                                                                                                                                                                                                                                                                                                                                                                                                                                                                                                                                                                                                                                                                                                                                                                                                                                                                                                                                                                                                                                                                                                                                                                                                                                                                                                                                                                                                                                                                                                                           You are an experienced HR specialist. Extract the following information from the candidate's resume:\\n\\n- Skills\\n- Experiences (with years if mentioned)\\n- Certifications\\n- Education\\n\\nResume:\\nHR ADMINISTRATOR/MARKETING ASSOCIATE HR ADMINISTRATOR Summary Dedicated Customer Service Manager with 15+ years of experience in Hospitality and Customer Service Management. Respected builder and leader of customer-focused teams; strives to instill a shared, enthusiastic commitment to customer service. Highlights Focused on customer satisfaction Team management Marketing savvy Conflict resolution techniques Training and development Skilled multi-tasker Client relations specialist Accomplishments Missouri DOT Supervisor Training Certification Certified by IHG in Customer Loyalty and Marketing by Segment Hilton Worldwide General Manager Training Certification Accomplished Trainer for cross server hospitality systems such as Hilton OnQ , Micros Opera PMS , Fidelio OPERA Reservation System (ORS) , Holidex Completed courses and seminars in customer service, sales strategies, inventory control, loss prevention, safety, time management, leadership and performance assessment. Experience HR Administrator/Marketing Associate HR Administrator Dec 2013 to Current Company Name － City , State Helps to develop policies, directs and coordinates activities such as employment, compensation, labor relations, benefits, training, and employee services. Prepares employee separation notices and related documentation Keeps records of benefits plans participation such as insurance and pension plan, personnel transactions such as hires, promotions, transfers, performance reviews, and terminations, and employee statistics for government reporting. Advises management in appropriate resolution of employee relations issues. Administers benefits programs such as life, health, dental, insurance, pension plans, vacation, sick leave, leave of absence, and employee assistance. Marketing Associate Designed and created marketing collateral for sales meetings, trade shows and company executives. Managed the in-house advertising program consisting of print and media collateral pieces. Assisted in the complete design and launch of the company's website in 2 months. Created an official company page on Facebook to facilitate interaction with customers. Analyzed ratings and programming features of competitors to evaluate the effectiveness of marketing strategies. Advanced Medical Claims Analyst Mar 2012 to Dec 2013 Company Name － City , State Reviewed medical bills for the accuracy of the treatments, tests, and hospital stays prior to sanctioning the claims. Trained to interpret the codes (ICD-9, CPT) and terminology commonly used in medical billing to fully understand the paperwork that is submitted by healthcare providers. Required to have organizational and analytical skills as well as computer skills, knowledge of medical terminology and procedures, statistics, billing standards, data analysis and laws regarding medical billing. Assistant General Manager Jun 2010 to Dec 2010 Company Name － City , State Performed duties including but not limited to, budgeting and financial management, accounting, human resources, payroll and purchasing. Established and maintained close working relationships with all departments of the hotel to ensure maximum operation, productivity, morale and guest service. Handled daily operations and reported directly to the corporate office. Hired and trained staff on overall objectives and goals with an emphasis on high customer service. Marketing and Advertising, working on public relations with the media, government and local businesses and Chamber of Commerce. Executive Support / Marketing Assistant Jul 2007 to Jun 2010 Company Name － City , State Provided assistance to various department heads - Executive, Marketing, Customer Service, Human Resources. Managed front-end operations to ensure friendly and efficient transactions. Ensured the swift resolution of customer issues to preserve customer loyalty while complying with company policies. Exemplified the second-to-none customer service delivery in all interactions with customers and potential clients. Reservation & Front Office Manager Jun 2004 to Jul 2007 Company Name － City , State Owner/ Partner Dec 2001 to May 2004 Company Name － City , State Price Integrity Coordinator Aug 1999 to Dec 2001 Company Name － City , State Education N/A , Business Administration 1999 Jefferson College － City , State Business Administration Marketing / Advertising High School Diploma , College Prep. studies 1998 Sainte Genevieve Senior High － City , State Awarded American Shrubel Leadership Scholarship to Jefferson College Skills Accounting, ads, advertising, analytical skills, benefits, billing, budgeting, clients, Customer Service, data analysis, delivery, documentation, employee relations, financial management, government relations, Human Resources, insurance, labor relations, layout, Marketing, marketing collateral, medical billing, medical terminology, office, organizational, payroll, performance reviews, personnel, policies, posters, presentations, public relations, purchasing, reporting, statistics, website.\\n\\nRespond ONLY in JSON format like this:\\n{\\n  \"skills\": [],\\n  \"experiences\": [],\\n  \"certifications\": [],\\n  \"education\": []\\n}  \n",
       "1                                                                                                                                                                                                                                                                                                                                                                                                                                                                                                                                                                                                                                                                                                                                                                                                                                                                                                                                                                                                                                                                                                                                                                                                                                                                                                                                                                                                                                                                                                                                                                                                                                                                                                                                                                                                                                                                                                                                                                                                                                                                                                                                                                                                                                                         You are an experienced HR specialist. Extract the following information from the candidate's resume:\\n\\n- Skills\\n- Experiences (with years if mentioned)\\n- Certifications\\n- Education\\n\\nResume:\\nHR SPECIALIST, US HR OPERATIONS Summary Versatile media professional with background in Communications, Marketing, Human Resources and Technology. Experience 09/2015 to Current HR Specialist, US HR Operations Company Name － City , State Managed communication regarding launch of Operations group, policy changes and system outages Designed standard work and job aids to create comprehensive training program for new employees and contractors Audited job postings for old, pending, on-hold and draft positions. Audited union hourly, non-union hourly and salary background checks and drug screens Conducted monthly new hire benefits briefing to new employees across all business units Served as a link between HR Managers and vendors by handling questions and resolving system-related issues Provide real-time process improvement feedback on key metrics and initiatives Successfully re-branded US HR Operations SharePoint site Business Unit project manager for RFI/RFP on Background Check and Drug Screen vendor 01/2014 to 05/2015 IT, Marketing and Communications Co-op Company Name － City , State Posted new articles, changes and updates to corporate SharePoint site including graphics and visual communications. Researched and drafted articles and feature stories to promote company activities and programs. Co-edited and developed content for quarterly published newsletter. Provided communication support for internal and external events. Collaborated with Communication team, media professionals and vendors to determine program needs for print materials, web design and digital communications. Entrusted to lead product, service and software launches for Digital Asset Management tool, Marketing Toolkit website and Executive Tradeshows Calendar. Created presentations for management and executive approval to ensure alignment with corporate guidelines and branding. Maintained the MySikorsky SharePoint site and provided timely solutions to mitigate issues. Created story board and produced video for annual IT All Hands meeting. 10/2012 to 01/2014 Relationship Coordinator/Marketing Specialist Company Name － City , State Partnered with vendor to manage the in-house advertising program consisting of print and media collateral pieces. Coordinated pre-show and post-show activities at trade shows. Managed marketing campaigns to generate new business and to support partner and sales teams. Ordered marketing collateral for meetings, trade shows and advisors. Improved, administered and modified marketing programs to increase product awareness. Assisted in preparing internal promotional publications, managed marketing material inventory and supervised distribution of publications to ensure high quality product output. Coordinated marketing materials including brochures, promotional materials and products. Partnered with graphic designers to develop appropriate materials and branding for brochures. Used tracking and reporting systems for sales leads and appointments. 09/2009 to 10/2012 Assistant Head Teller Company Name － City , State Received an internal audit score of 100 %. Performed daily and monthly audits of ATM machines and tellers. Educated customers on a variety of retail products and available credit options. Consistently met or exceeded quarterly sales goals Promoted products and services to customers while maintaining company brand identity · Implemented programs to achieve and exceed customer and company participation goals Organized company sponsored events on campus resulting in increased brand awareness · Coached peers on the proper use of programs to improve work flow efficiency Utilized product knowledge to successfully sell to and refer clients based on individual needs Promoted marketing the grand opening of new branch locations to strengthen company brand affinity · Organized company sponsored events resulting in increased brand awareness and improved sales · Coached peers on the proper use of programs to increase work flow efficiency Senior Producer - 2014 SHU Media Exchange Company Name － City , State Planned and executed event focusing on Connecticut's creative corridor, growth of industry and opportunities that come with development. A panel of industry professionals addressed topics related to media and hosted a question and answer session for approximately 110 attendees. Following the forum, guests were invited to engage in networking and conversation at a post-event reception. Education 2014 Master of Arts : Corporate Communication & Public Relations Sacred Heart University － City , State 2013 Bachelor of Arts : Relational Communication Western Connecticut State University － City , State Skills Adobe Photoshop, ADP, Asset Management, branding, brochures, content, Customer Care, Final Cut Pro, graphics, graphic, HR, Illustrator, InDesign, Innovation, inventory, Lotus Notes, marketing, marketing materials, marketing material, materials, Microsoft Office, SharePoint, newsletter, presentations, process improvement, Project Management, promotional materials, publications, Quality, real-time, Recruitment, reporting, RFP, sales, stories, Employee Development, video, web design, website, articles\\n\\nRespond ONLY in JSON format like this:\\n{\\n  \"skills\": [],\\n  \"experiences\": [],\\n  \"certifications\": [],\\n  \"education\": []\\n}  \n",
       "2  You are an experienced HR specialist. Extract the following information from the candidate's resume:\\n\\n- Skills\\n- Experiences (with years if mentioned)\\n- Certifications\\n- Education\\n\\nResume:\\nHR DIRECTOR Summary Over 20 years experience in recruiting, 15 plus years in Human Resources Executive Management, 5 years of HRIS development and maintenance 4 years working in a Healthcare Enviroment Skills Recruiting FMLA/EEO/FLSA HRIS Development Benefit Administration Policy Development Web Page Development Accomplishments Kansas Health Institute -Health Outcomes for the State of Kansas -1999 Memberships and Accolades: Project Management Institute Member, SHRM, Chamber of Commerce, 1999 Friends University President's Honor Roll, 1997 Friends University Dean's Honor Roll, Student Liaison for Friends University Topeka (member of Mother-To-Mother, member of the Topeka Advertising Federation, several production pieces created nominated for ADDY Awards, received recognition for outstanding customer service assistance by the State of Kansas Travel and Tourism Department., ASHHRA, KAHHR, ACM. Additional Information: Leading Change -I have been instrumental in development and implementation of the Adjutant General's Retention Research project, involving survey development and analyzing the results of the surveys to present to the Adjutant General to help retain the qualified talent of the Departments. I have been tasked with working with the Federal Security Manager for the Joint Forces Headquarters in developing policies, procedures and processes to ensure that all current and new State Employees have the appropriate security clearances for the position held per the Federal Government Requirements. While at LMIS, I lead the Job Vacancy Project and was able to produce results in less time and man hours than in years before with staff that were inexperienced in the JVC process and procedures. I have been responsible to develop, plan and implement database programs, for the last three positions I have held. These were designed to cultivate, involve, renew contact, and promote active and potential employees. These databases were used for reporting FTE usage, budget management and turnover reports. While working in the healthcare field, I took the initiative in creating a local website that was used to receive and respond to requests for information and assistance in marketing and promoting the healthcare facility along with recruitment of potential employees. As Human Resource Coordinator in the healthcare field, I managed the front office personnel, reduced contract labor costs for nursing staff and implemented a unique pay structure to increase PRN staff utilization. I continually think \"Outside-the-box\" to create and develop strategies to resolve issues faced in my work environment. In my current position, I have met and exceeded all hiring goals for the firm. This resulted in our client increasing the business transferred to our location. Experience HR Director 09/2016 to Current Company Name City , State Developed New Website for Agency, payroll processing changes, and implementation of new HRIS System. Oversaw the employment process taking the lead role in clinician, physician and management team recruitment initiatives. Developed, maintain and interpret HR policy. Authored the Employee Handbook. Provided coaching and support to management and supervisors on performance management and other related issues. Maintained in-depth knowledge of legal requirements related to day-to-day management of employees, reducing legal risks and ensuring regulatory compliance. Evaluated and recommend changes to the employee benefits plan. Oversaw day to day administration of benefits. HR Director 04/2009 to 09/2016 Company Name City , State Develped Supervisory Education, SHRO Website, SHRO HRIS System and Automation of payroll processing. Established and directed a comprehensive statewide human resource program for both classified and unclassified State employees/positions in the Adjutant General's Department. Resolved non-routine HR related issues associated as they arose; reviewed documents and approved all hires and promotions; reviews and approved, modified and/or disapproved wage/salary requests to hire individuals above the pre-established minimum classified or unclassified pay rate, Reviewed any significant changes to position descriptions and determined if reclassification should be pursued; reviewed position descriptions for new positions and determined the appropriate wage range based on comparable classified position (if they exist), Consulted with the TAG and both military and state manager/ supervisors in order to provide technical and common sense guidance on properly addressing sensitive or complex employee and organizational issues; aided them in achieving their ever changing program goals and provided innovative ideas for staffing; Served as the administration's management representative in labor negotiations with the local KAPE unit at the 190th Fire Department. HR Manager/Sr. Recruiter 10/2003 to 06/2006 Company Name City , State Created an HRIS tracking system used for recruitment. Responsible for Ramp up and hiring of all customer service agents, and other positions as needed. Placement and development of all advertising Met and exceeded all hiring goals. Responsible for Hiring Senior Management to cover such duties as: Team Managers, Payroll, Quality Control. Responsible for recruitment of 950 new employees, meeting and exceeded goals set. Coordinated and facilitated manpower planning, recruitment and retention, career development and training, staff relations, compensation and benefits, compliance with local, state and federal statutory regulations, public programs, and regulatory audit procedures. Served as a resource person to administration, mid-level management and staff regarding HR related. Human Resources Coordinator 03/1996 to 02/2000 Company Name City , State Developed HRIS database from ground up for employee records and monitoring. Instrumental in reducing the use of Agency Staffing needs for hospital. Coordinated and facilitates manpower planning, recruitment and retention, career development and training, staff relations, compensation and benefits, compliance with local, state and federal statutory regulations, public programs, and regulatory audit procedures. Served as the HR resource source for administration, mid-level management and staff. Coordinated hiring procedures, appraisals, pay increases, promotions, transfers, terminations, job postings, and all corrective actions; One Person Office, responsible for all OSHA, Work Comp, Benefits, payroll, etc. Education and Training Master's Degree : Information Management Systems 05/2005 Friends University City , State , United States 3.5 Credits Earned: 62 Semester hours Information Management Systems Bachelor of Science : Organizational Management 05/2000 Friends University City , State , United States 4.0 Credits Earned: 62 Semester hours Activities and Honors Topeka Chamber of Commerce -Ambassador Kansas Hospital Association -Health Care Human Resources Member SHRM -Legislative Liaison Skills Desktop Publishing, Newsletter productions, DATABASE Management, Leadership Training, OSHA, FMLA, Workers Compensation. PageMaker, Agency Automation, back-up, Benefits, Budget management, Corel Suite, Harvard Graphics, Access, Excel, Microsoft Publisher, MS Word, Quark Express, Quattro Pro, Strategic Planning, Web page development, WordPerfect\\n\\nRespond ONLY in JSON format like this:\\n{\\n  \"skills\": [],\\n  \"experiences\": [],\\n  \"certifications\": [],\\n  \"education\": []\\n}  "
      ],
      "text/html": [
       "<div>\n",
       "<style scoped>\n",
       "    .dataframe tbody tr th:only-of-type {\n",
       "        vertical-align: middle;\n",
       "    }\n",
       "\n",
       "    .dataframe tbody tr th {\n",
       "        vertical-align: top;\n",
       "    }\n",
       "\n",
       "    .dataframe thead th {\n",
       "        text-align: right;\n",
       "    }\n",
       "</style>\n",
       "<table border=\"1\" class=\"dataframe\">\n",
       "  <thead>\n",
       "    <tr style=\"text-align: right;\">\n",
       "      <th></th>\n",
       "      <th>Category</th>\n",
       "      <th>extraction_prompt</th>\n",
       "    </tr>\n",
       "  </thead>\n",
       "  <tbody>\n",
       "    <tr>\n",
       "      <th>0</th>\n",
       "      <td>HR</td>\n",
       "      <td>You are an experienced HR specialist. Extract the following information from the candidate's resume:\\n\\n- Skills\\n- Experiences (with years if mentioned)\\n- Certifications\\n- Education\\n\\nResume:\\nHR ADMINISTRATOR/MARKETING ASSOCIATE HR ADMINISTRATOR Summary Dedicated Customer Service Manager with 15+ years of experience in Hospitality and Customer Service Management. Respected builder and leader of customer-focused teams; strives to instill a shared, enthusiastic commitment to customer service. Highlights Focused on customer satisfaction Team management Marketing savvy Conflict resolution techniques Training and development Skilled multi-tasker Client relations specialist Accomplishments Missouri DOT Supervisor Training Certification Certified by IHG in Customer Loyalty and Marketing by Segment Hilton Worldwide General Manager Training Certification Accomplished Trainer for cross server hospitality systems such as Hilton OnQ , Micros Opera PMS , Fidelio OPERA Reservation System (ORS) , Holidex Completed courses and seminars in customer service, sales strategies, inventory control, loss prevention, safety, time management, leadership and performance assessment. Experience HR Administrator/Marketing Associate HR Administrator Dec 2013 to Current Company Name － City , State Helps to develop policies, directs and coordinates activities such as employment, compensation, labor relations, benefits, training, and employee services. Prepares employee separation notices and related documentation Keeps records of benefits plans participation such as insurance and pension plan, personnel transactions such as hires, promotions, transfers, performance reviews, and terminations, and employee statistics for government reporting. Advises management in appropriate resolution of employee relations issues. Administers benefits programs such as life, health, dental, insurance, pension plans, vacation, sick leave, leave of absence, and employee assistance. Marketing Associate Designed and created marketing collateral for sales meetings, trade shows and company executives. Managed the in-house advertising program consisting of print and media collateral pieces. Assisted in the complete design and launch of the company's website in 2 months. Created an official company page on Facebook to facilitate interaction with customers. Analyzed ratings and programming features of competitors to evaluate the effectiveness of marketing strategies. Advanced Medical Claims Analyst Mar 2012 to Dec 2013 Company Name － City , State Reviewed medical bills for the accuracy of the treatments, tests, and hospital stays prior to sanctioning the claims. Trained to interpret the codes (ICD-9, CPT) and terminology commonly used in medical billing to fully understand the paperwork that is submitted by healthcare providers. Required to have organizational and analytical skills as well as computer skills, knowledge of medical terminology and procedures, statistics, billing standards, data analysis and laws regarding medical billing. Assistant General Manager Jun 2010 to Dec 2010 Company Name － City , State Performed duties including but not limited to, budgeting and financial management, accounting, human resources, payroll and purchasing. Established and maintained close working relationships with all departments of the hotel to ensure maximum operation, productivity, morale and guest service. Handled daily operations and reported directly to the corporate office. Hired and trained staff on overall objectives and goals with an emphasis on high customer service. Marketing and Advertising, working on public relations with the media, government and local businesses and Chamber of Commerce. Executive Support / Marketing Assistant Jul 2007 to Jun 2010 Company Name － City , State Provided assistance to various department heads - Executive, Marketing, Customer Service, Human Resources. Managed front-end operations to ensure friendly and efficient transactions. Ensured the swift resolution of customer issues to preserve customer loyalty while complying with company policies. Exemplified the second-to-none customer service delivery in all interactions with customers and potential clients. Reservation &amp; Front Office Manager Jun 2004 to Jul 2007 Company Name － City , State Owner/ Partner Dec 2001 to May 2004 Company Name － City , State Price Integrity Coordinator Aug 1999 to Dec 2001 Company Name － City , State Education N/A , Business Administration 1999 Jefferson College － City , State Business Administration Marketing / Advertising High School Diploma , College Prep. studies 1998 Sainte Genevieve Senior High － City , State Awarded American Shrubel Leadership Scholarship to Jefferson College Skills Accounting, ads, advertising, analytical skills, benefits, billing, budgeting, clients, Customer Service, data analysis, delivery, documentation, employee relations, financial management, government relations, Human Resources, insurance, labor relations, layout, Marketing, marketing collateral, medical billing, medical terminology, office, organizational, payroll, performance reviews, personnel, policies, posters, presentations, public relations, purchasing, reporting, statistics, website.\\n\\nRespond ONLY in JSON format like this:\\n{\\n  \"skills\": [],\\n  \"experiences\": [],\\n  \"certifications\": [],\\n  \"education\": []\\n}</td>\n",
       "    </tr>\n",
       "    <tr>\n",
       "      <th>1</th>\n",
       "      <td>HR</td>\n",
       "      <td>You are an experienced HR specialist. Extract the following information from the candidate's resume:\\n\\n- Skills\\n- Experiences (with years if mentioned)\\n- Certifications\\n- Education\\n\\nResume:\\nHR SPECIALIST, US HR OPERATIONS Summary Versatile media professional with background in Communications, Marketing, Human Resources and Technology. Experience 09/2015 to Current HR Specialist, US HR Operations Company Name － City , State Managed communication regarding launch of Operations group, policy changes and system outages Designed standard work and job aids to create comprehensive training program for new employees and contractors Audited job postings for old, pending, on-hold and draft positions. Audited union hourly, non-union hourly and salary background checks and drug screens Conducted monthly new hire benefits briefing to new employees across all business units Served as a link between HR Managers and vendors by handling questions and resolving system-related issues Provide real-time process improvement feedback on key metrics and initiatives Successfully re-branded US HR Operations SharePoint site Business Unit project manager for RFI/RFP on Background Check and Drug Screen vendor 01/2014 to 05/2015 IT, Marketing and Communications Co-op Company Name － City , State Posted new articles, changes and updates to corporate SharePoint site including graphics and visual communications. Researched and drafted articles and feature stories to promote company activities and programs. Co-edited and developed content for quarterly published newsletter. Provided communication support for internal and external events. Collaborated with Communication team, media professionals and vendors to determine program needs for print materials, web design and digital communications. Entrusted to lead product, service and software launches for Digital Asset Management tool, Marketing Toolkit website and Executive Tradeshows Calendar. Created presentations for management and executive approval to ensure alignment with corporate guidelines and branding. Maintained the MySikorsky SharePoint site and provided timely solutions to mitigate issues. Created story board and produced video for annual IT All Hands meeting. 10/2012 to 01/2014 Relationship Coordinator/Marketing Specialist Company Name － City , State Partnered with vendor to manage the in-house advertising program consisting of print and media collateral pieces. Coordinated pre-show and post-show activities at trade shows. Managed marketing campaigns to generate new business and to support partner and sales teams. Ordered marketing collateral for meetings, trade shows and advisors. Improved, administered and modified marketing programs to increase product awareness. Assisted in preparing internal promotional publications, managed marketing material inventory and supervised distribution of publications to ensure high quality product output. Coordinated marketing materials including brochures, promotional materials and products. Partnered with graphic designers to develop appropriate materials and branding for brochures. Used tracking and reporting systems for sales leads and appointments. 09/2009 to 10/2012 Assistant Head Teller Company Name － City , State Received an internal audit score of 100 %. Performed daily and monthly audits of ATM machines and tellers. Educated customers on a variety of retail products and available credit options. Consistently met or exceeded quarterly sales goals Promoted products and services to customers while maintaining company brand identity · Implemented programs to achieve and exceed customer and company participation goals Organized company sponsored events on campus resulting in increased brand awareness · Coached peers on the proper use of programs to improve work flow efficiency Utilized product knowledge to successfully sell to and refer clients based on individual needs Promoted marketing the grand opening of new branch locations to strengthen company brand affinity · Organized company sponsored events resulting in increased brand awareness and improved sales · Coached peers on the proper use of programs to increase work flow efficiency Senior Producer - 2014 SHU Media Exchange Company Name － City , State Planned and executed event focusing on Connecticut's creative corridor, growth of industry and opportunities that come with development. A panel of industry professionals addressed topics related to media and hosted a question and answer session for approximately 110 attendees. Following the forum, guests were invited to engage in networking and conversation at a post-event reception. Education 2014 Master of Arts : Corporate Communication &amp; Public Relations Sacred Heart University － City , State 2013 Bachelor of Arts : Relational Communication Western Connecticut State University － City , State Skills Adobe Photoshop, ADP, Asset Management, branding, brochures, content, Customer Care, Final Cut Pro, graphics, graphic, HR, Illustrator, InDesign, Innovation, inventory, Lotus Notes, marketing, marketing materials, marketing material, materials, Microsoft Office, SharePoint, newsletter, presentations, process improvement, Project Management, promotional materials, publications, Quality, real-time, Recruitment, reporting, RFP, sales, stories, Employee Development, video, web design, website, articles\\n\\nRespond ONLY in JSON format like this:\\n{\\n  \"skills\": [],\\n  \"experiences\": [],\\n  \"certifications\": [],\\n  \"education\": []\\n}</td>\n",
       "    </tr>\n",
       "    <tr>\n",
       "      <th>2</th>\n",
       "      <td>HR</td>\n",
       "      <td>You are an experienced HR specialist. Extract the following information from the candidate's resume:\\n\\n- Skills\\n- Experiences (with years if mentioned)\\n- Certifications\\n- Education\\n\\nResume:\\nHR DIRECTOR Summary Over 20 years experience in recruiting, 15 plus years in Human Resources Executive Management, 5 years of HRIS development and maintenance 4 years working in a Healthcare Enviroment Skills Recruiting FMLA/EEO/FLSA HRIS Development Benefit Administration Policy Development Web Page Development Accomplishments Kansas Health Institute -Health Outcomes for the State of Kansas -1999 Memberships and Accolades: Project Management Institute Member, SHRM, Chamber of Commerce, 1999 Friends University President's Honor Roll, 1997 Friends University Dean's Honor Roll, Student Liaison for Friends University Topeka (member of Mother-To-Mother, member of the Topeka Advertising Federation, several production pieces created nominated for ADDY Awards, received recognition for outstanding customer service assistance by the State of Kansas Travel and Tourism Department., ASHHRA, KAHHR, ACM. Additional Information: Leading Change -I have been instrumental in development and implementation of the Adjutant General's Retention Research project, involving survey development and analyzing the results of the surveys to present to the Adjutant General to help retain the qualified talent of the Departments. I have been tasked with working with the Federal Security Manager for the Joint Forces Headquarters in developing policies, procedures and processes to ensure that all current and new State Employees have the appropriate security clearances for the position held per the Federal Government Requirements. While at LMIS, I lead the Job Vacancy Project and was able to produce results in less time and man hours than in years before with staff that were inexperienced in the JVC process and procedures. I have been responsible to develop, plan and implement database programs, for the last three positions I have held. These were designed to cultivate, involve, renew contact, and promote active and potential employees. These databases were used for reporting FTE usage, budget management and turnover reports. While working in the healthcare field, I took the initiative in creating a local website that was used to receive and respond to requests for information and assistance in marketing and promoting the healthcare facility along with recruitment of potential employees. As Human Resource Coordinator in the healthcare field, I managed the front office personnel, reduced contract labor costs for nursing staff and implemented a unique pay structure to increase PRN staff utilization. I continually think \"Outside-the-box\" to create and develop strategies to resolve issues faced in my work environment. In my current position, I have met and exceeded all hiring goals for the firm. This resulted in our client increasing the business transferred to our location. Experience HR Director 09/2016 to Current Company Name City , State Developed New Website for Agency, payroll processing changes, and implementation of new HRIS System. Oversaw the employment process taking the lead role in clinician, physician and management team recruitment initiatives. Developed, maintain and interpret HR policy. Authored the Employee Handbook. Provided coaching and support to management and supervisors on performance management and other related issues. Maintained in-depth knowledge of legal requirements related to day-to-day management of employees, reducing legal risks and ensuring regulatory compliance. Evaluated and recommend changes to the employee benefits plan. Oversaw day to day administration of benefits. HR Director 04/2009 to 09/2016 Company Name City , State Develped Supervisory Education, SHRO Website, SHRO HRIS System and Automation of payroll processing. Established and directed a comprehensive statewide human resource program for both classified and unclassified State employees/positions in the Adjutant General's Department. Resolved non-routine HR related issues associated as they arose; reviewed documents and approved all hires and promotions; reviews and approved, modified and/or disapproved wage/salary requests to hire individuals above the pre-established minimum classified or unclassified pay rate, Reviewed any significant changes to position descriptions and determined if reclassification should be pursued; reviewed position descriptions for new positions and determined the appropriate wage range based on comparable classified position (if they exist), Consulted with the TAG and both military and state manager/ supervisors in order to provide technical and common sense guidance on properly addressing sensitive or complex employee and organizational issues; aided them in achieving their ever changing program goals and provided innovative ideas for staffing; Served as the administration's management representative in labor negotiations with the local KAPE unit at the 190th Fire Department. HR Manager/Sr. Recruiter 10/2003 to 06/2006 Company Name City , State Created an HRIS tracking system used for recruitment. Responsible for Ramp up and hiring of all customer service agents, and other positions as needed. Placement and development of all advertising Met and exceeded all hiring goals. Responsible for Hiring Senior Management to cover such duties as: Team Managers, Payroll, Quality Control. Responsible for recruitment of 950 new employees, meeting and exceeded goals set. Coordinated and facilitated manpower planning, recruitment and retention, career development and training, staff relations, compensation and benefits, compliance with local, state and federal statutory regulations, public programs, and regulatory audit procedures. Served as a resource person to administration, mid-level management and staff regarding HR related. Human Resources Coordinator 03/1996 to 02/2000 Company Name City , State Developed HRIS database from ground up for employee records and monitoring. Instrumental in reducing the use of Agency Staffing needs for hospital. Coordinated and facilitates manpower planning, recruitment and retention, career development and training, staff relations, compensation and benefits, compliance with local, state and federal statutory regulations, public programs, and regulatory audit procedures. Served as the HR resource source for administration, mid-level management and staff. Coordinated hiring procedures, appraisals, pay increases, promotions, transfers, terminations, job postings, and all corrective actions; One Person Office, responsible for all OSHA, Work Comp, Benefits, payroll, etc. Education and Training Master's Degree : Information Management Systems 05/2005 Friends University City , State , United States 3.5 Credits Earned: 62 Semester hours Information Management Systems Bachelor of Science : Organizational Management 05/2000 Friends University City , State , United States 4.0 Credits Earned: 62 Semester hours Activities and Honors Topeka Chamber of Commerce -Ambassador Kansas Hospital Association -Health Care Human Resources Member SHRM -Legislative Liaison Skills Desktop Publishing, Newsletter productions, DATABASE Management, Leadership Training, OSHA, FMLA, Workers Compensation. PageMaker, Agency Automation, back-up, Benefits, Budget management, Corel Suite, Harvard Graphics, Access, Excel, Microsoft Publisher, MS Word, Quark Express, Quattro Pro, Strategic Planning, Web page development, WordPerfect\\n\\nRespond ONLY in JSON format like this:\\n{\\n  \"skills\": [],\\n  \"experiences\": [],\\n  \"certifications\": [],\\n  \"education\": []\\n}</td>\n",
       "    </tr>\n",
       "  </tbody>\n",
       "</table>\n",
       "</div>"
      ]
     },
     "execution_count": 21,
     "metadata": {},
     "output_type": "execute_result"
    }
   ],
   "execution_count": 21
  },
  {
   "metadata": {
    "ExecuteTime": {
     "end_time": "2025-10-14T07:39:25.152924Z",
     "start_time": "2025-10-14T07:39:25.134662Z"
    }
   },
   "cell_type": "code",
   "source": "df.info()",
   "id": "9bc1705d4c4fb3a9",
   "outputs": [
    {
     "name": "stdout",
     "output_type": "stream",
     "text": [
      "<class 'pandas.core.frame.DataFrame'>\n",
      "RangeIndex: 2484 entries, 0 to 2483\n",
      "Data columns (total 5 columns):\n",
      " #   Column             Non-Null Count  Dtype \n",
      "---  ------             --------------  ----- \n",
      " 0   ID                 2484 non-null   int64 \n",
      " 1   Resume_str         2484 non-null   object\n",
      " 2   Category           2484 non-null   object\n",
      " 3   Resume_clean       2484 non-null   object\n",
      " 4   extraction_prompt  2484 non-null   object\n",
      "dtypes: int64(1), object(4)\n",
      "memory usage: 97.2+ KB\n"
     ]
    }
   ],
   "execution_count": 22
  },
  {
   "metadata": {
    "ExecuteTime": {
     "end_time": "2025-10-14T07:54:23.417942Z",
     "start_time": "2025-10-14T07:54:23.328750Z"
    }
   },
   "cell_type": "code",
   "source": [
    "# Sample ca. 100 resumes, by category 5 from each (proportional)\n",
    "df_sample = df.groupby(\"Category\", group_keys=False).apply(lambda x: x.sample(min(len(x), 5), random_state=42))\n",
    "df_sample.shape\n"
   ],
   "id": "7ef124add7e4ed7b",
   "outputs": [
    {
     "name": "stderr",
     "output_type": "stream",
     "text": [
      "C:\\Users\\semra\\AppData\\Local\\Temp\\ipykernel_9620\\2823696182.py:2: FutureWarning: DataFrameGroupBy.apply operated on the grouping columns. This behavior is deprecated, and in a future version of pandas the grouping columns will be excluded from the operation. Either pass `include_groups=False` to exclude the groupings or explicitly select the grouping columns after groupby to silence this warning.\n",
      "  df_sample = df.groupby(\"Category\", group_keys=False).apply(lambda x: x.sample(min(len(x), 5), random_state=42))\n"
     ]
    },
    {
     "data": {
      "text/plain": [
       "(120, 5)"
      ]
     },
     "execution_count": 23,
     "metadata": {},
     "output_type": "execute_result"
    }
   ],
   "execution_count": 23
  },
  {
   "metadata": {
    "ExecuteTime": {
     "end_time": "2025-10-14T07:55:31.699346Z",
     "start_time": "2025-10-14T07:55:31.594985Z"
    }
   },
   "cell_type": "code",
   "source": [
    "df_sample.to_csv(\"resume_sample.csv\", index=False)\n",
    "df_sample.info()"
   ],
   "id": "bee5bb26c622bb02",
   "outputs": [
    {
     "name": "stdout",
     "output_type": "stream",
     "text": [
      "<class 'pandas.core.frame.DataFrame'>\n",
      "Index: 120 entries, 1864 to 379\n",
      "Data columns (total 5 columns):\n",
      " #   Column             Non-Null Count  Dtype \n",
      "---  ------             --------------  ----- \n",
      " 0   ID                 120 non-null    int64 \n",
      " 1   Resume_str         120 non-null    object\n",
      " 2   Category           120 non-null    object\n",
      " 3   Resume_clean       120 non-null    object\n",
      " 4   extraction_prompt  120 non-null    object\n",
      "dtypes: int64(1), object(4)\n",
      "memory usage: 9.7+ KB\n"
     ]
    }
   ],
   "execution_count": 25
  },
  {
   "metadata": {},
   "cell_type": "code",
   "outputs": [],
   "execution_count": null,
   "source": "# gather output from LLM",
   "id": "9c45a37c2fe27629"
  },
  {
   "metadata": {},
   "cell_type": "code",
   "outputs": [],
   "execution_count": null,
   "source": "# annotate a sample ( 5 categories, 3-4 per category, 15-20 annotated resumes)",
   "id": "c886c7408da6e56f"
  }
 ],
 "metadata": {
  "kernelspec": {
   "display_name": "Python 3",
   "language": "python",
   "name": "python3"
  },
  "language_info": {
   "codemirror_mode": {
    "name": "ipython",
    "version": 2
   },
   "file_extension": ".py",
   "mimetype": "text/x-python",
   "name": "python",
   "nbconvert_exporter": "python",
   "pygments_lexer": "ipython2",
   "version": "2.7.6"
  }
 },
 "nbformat": 4,
 "nbformat_minor": 5
}
